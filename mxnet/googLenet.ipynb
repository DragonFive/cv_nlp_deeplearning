{
 "cells": [
  {
   "cell_type": "markdown",
   "metadata": {},
   "source": [
    "# googLenet\n",
    "\n",
    "## inception结构\n",
    "\n",
    "![](http://zh.gluon.ai/_images/inception.svg)"
   ]
  },
  {
   "cell_type": "code",
   "execution_count": 33,
   "metadata": {},
   "outputs": [],
   "source": [
    "from mxnet.gluon import nn\n",
    "from mxnet import nd\n",
    "class Inception(nn.Block):\n",
    "    def __init__(self,n1_1,n2_1,n2_3,n3_1,n3_5,n4_1,**kwargs):\n",
    "        super(Inception,self).__init__(**kwargs)\n",
    "        self.p1_conv_1 = nn.Conv2D(n1_1,kernel_size=1,activation='relu')\n",
    "        self.p2_conv_1 = nn.Conv2D(n2_1,kernel_size=1,activation='relu')\n",
    "        self.p2_conv_3 = nn.Conv2D(n2_3,kernel_size=3,padding=1,activation='relu')\n",
    "        self.p3_conv_1 = nn.Conv2D(n3_1,kernel_size=1,activation='relu')\n",
    "        self.p3_conv_5 = nn.Conv2D(n3_5,kernel_size=5,padding=2,activation='relu')\n",
    "        self.p4_pool_4 = nn.MaxPool2D(pool_size=3,strides=1,padding=1)\n",
    "        self.p4_conv_1 = nn.Conv2D(n4_1,kernel_size=1,activation='relu')\n",
    "    \n",
    "    def forward(self,x):\n",
    "        p1 = self.p1_conv_1(x)\n",
    "        p2 = self.p2_conv_3(self.p2_conv_1(x))\n",
    "        p3 = self.p3_conv_5(self.p3_conv_1(x))\n",
    "        p4 = self.p4_conv_1(self.p4_pool_4(x))\n",
    "        return nd.concat(p1,p2,p3,p4,dim=1)\n",
    "        "
   ]
  },
  {
   "cell_type": "markdown",
   "metadata": {},
   "source": [
    "## googLenet\n",
    "GoogLeNet将数个Inception串联在一起。\n",
    "\n",
    "![](https://www.github.com/DragonFive/CVBasicOp/raw/master/1513949196873.jpg)"
   ]
  },
  {
   "cell_type": "code",
   "execution_count": 47,
   "metadata": {
    "collapsed": true
   },
   "outputs": [],
   "source": [
    "class GoogLeNet(nn.Block):\n",
    "    def __init__(self, num_classes, verbose=False, **kwargs):\n",
    "        super(GoogLeNet,self).__init__(**kwargs)\n",
    "        self.verbose=verbose\n",
    "        b1 = nn.Sequential()\n",
    "        b1.add(\n",
    "            nn.Conv2D(64,kernel_size=7,padding=3,strides=1,activation='relu'),\n",
    "            nn.MaxPool2D(pool_size=3,strides=2)\n",
    "        )\n",
    "        b2 = nn.Sequential()\n",
    "        b2.add(\n",
    "            nn.Conv2D(64,kernel_size=1,strides=1),\n",
    "            nn.Conv2D(192,kernel_size=3,padding=1,strides=2),\n",
    "            nn.MaxPool2D(pool_size=3,strides=2)\n",
    "        )\n",
    "        b3 = nn.Sequential()\n",
    "        b3.add(\n",
    "            Inception(64,96,128,16,32,32),\n",
    "            Inception(128,128,192,32,96,64),\n",
    "            nn.MaxPool2D(pool_size=3,strides=2)\n",
    "        )\n",
    "        b4 = nn.Sequential()\n",
    "        b4.add(\n",
    "            Inception(192,96,208,16,48,64),\n",
    "            Inception(160,112,224,24,64,64),\n",
    "            Inception(128,128,256,24,64,64),\n",
    "            Inception(112,144,288,32,64,64),\n",
    "            Inception(256,160,320,32,128,128),\n",
    "            nn.MaxPool2D(pool_size=3,strides=2)\n",
    "        )\n",
    "        b5 = nn.Sequential()\n",
    "        b5.add(\n",
    "            Inception(256,160,320,32,128,128),\n",
    "            Inception(384,192,384,48,128,128),\n",
    "            nn.AvgPool2D(pool_size=2,strides=1),\n",
    "            nn.Dropout(.4)\n",
    "        )\n",
    "        b6 = nn.Sequential()\n",
    "        b6.add(\n",
    "            nn.Flatten(),\n",
    "            nn.Dense(num_classes)\n",
    "        )\n",
    "        self.net = nn.Sequential()\n",
    "        self.net.add(b1,b2,b3,b4,b5,b6)#,b6)\n",
    "    def forward(self,x):\n",
    "        out = x\n",
    "        for i,b in enumerate(self.net):\n",
    "            out=b(out)\n",
    "            if self.verbose==True:\n",
    "                print('Block %d output: %s'%(i+1, out.shape))\n",
    "        return out\n",
    "        "
   ]
  },
  {
   "cell_type": "code",
   "execution_count": 48,
   "metadata": {},
   "outputs": [
    {
     "name": "stdout",
     "output_type": "stream",
     "text": [
      "Block 1 output: (4L, 64L, 55L, 55L)\n",
      "Block 2 output: (4L, 192L, 13L, 13L)\n",
      "Block 3 output: (4L, 480L, 6L, 6L)\n",
      "Block 4 output: (4L, 832L, 2L, 2L)\n",
      "Block 5 output: (4L, 1024L, 1L, 1L)\n",
      "Block 6 output: (4L, 10L)\n"
     ]
    }
   ],
   "source": [
    "net = GoogLeNet(10, verbose=True)\n",
    "net.initialize()\n",
    "\n",
    "x = nd.random.uniform(shape=(4, 3, 112, 112))\n",
    "y = net(x)"
   ]
  },
  {
   "cell_type": "code",
   "execution_count": 50,
   "metadata": {},
   "outputs": [
    {
     "name": "stdout",
     "output_type": "stream",
     "text": [
      "('Start training on ', gpu(0))\n",
      "Epoch 0. Loss: 2.107, Train acc 0.29, Test acc 0.66, Time 77.9 sec\n",
      "Epoch 1. Loss: 0.727, Train acc 0.72, Test acc 0.74, Time 81.8 sec\n",
      "Epoch 2. Loss: 0.549, Train acc 0.80, Test acc 0.83, Time 79.1 sec\n",
      "Epoch 3. Loss: 0.467, Train acc 0.83, Test acc 0.84, Time 81.0 sec\n",
      "Epoch 4. Loss: 0.418, Train acc 0.84, Test acc 0.86, Time 80.8 sec\n"
     ]
    },
    {
     "data": {
      "image/png": "[encoded data removed]",
      "text/plain": [
       "<matplotlib.figure.Figure at 0x7f50577a37d0>"
      ]
     },
     "metadata": {},
     "output_type": "display_data"
    }
   ],
   "source": [
    "import sys\n",
    "sys.path.append('..')\n",
    "import utils\n",
    "from mxnet import gluon\n",
    "from mxnet import init\n",
    "\n",
    "train_data, test_data = utils.load_data_fashion_mnist(\n",
    "    batch_size=128, resize=112)\n",
    "\n",
    "ctx = utils.try_gpu()\n",
    "net = GoogLeNet(10)\n",
    "net.initialize(ctx=ctx, init=init.Xavier())\n",
    "\n",
    "loss = gluon.loss.SoftmaxCrossEntropyLoss()\n",
    "trainer = gluon.Trainer(net.collect_params(),\n",
    "                        'sgd', {'learning_rate': 0.01})\n",
    "utils.train(train_data, test_data, net, loss,\n",
    "            trainer, ctx, num_epochs=5,show=True)"
   ]
  },
  {
   "cell_type": "markdown",
   "metadata": {},
   "source": [
    "# inception v3\n",
    "\n",
    "![](https://www.github.com/DragonFive/CVBasicOp/raw/master/1513953354689.jpg)\n",
    "\n"
   ]
  },
  {
   "cell_type": "code",
   "execution_count": null,
   "metadata": {
    "collapsed": true
   },
   "outputs": [],
   "source": []
  },
  {
   "cell_type": "markdown",
   "metadata": {},
   "source": [
    "![](https://www.github.com/DragonFive/CVBasicOp/raw/master/1513953642127.jpg)"
   ]
  },
  {
   "cell_type": "code",
   "execution_count": null,
   "metadata": {
    "collapsed": true
   },
   "outputs": [],
   "source": []
  },
  {
   "cell_type": "markdown",
   "metadata": {},
   "source": [
    "![](https://www.github.com/DragonFive/CVBasicOp/raw/master/1513953709703.jpg)"
   ]
  },
  {
   "cell_type": "code",
   "execution_count": null,
   "metadata": {
    "collapsed": true
   },
   "outputs": [],
   "source": []
  }
 ],
 "metadata": {
  "kernelspec": {
   "display_name": "Python [conda env:gluon]",
   "language": "python",
   "name": "conda-env-gluon-py"
  },
  "language_info": {
   "codemirror_mode": {
    "name": "ipython",
    "version": 2
   },
   "file_extension": ".py",
   "mimetype": "text/x-python",
   "name": "python",
   "nbconvert_exporter": "python",
   "pygments_lexer": "ipython2",
   "version": "2.7.13"
  }
 },
 "nbformat": 4,
 "nbformat_minor": 2
}
