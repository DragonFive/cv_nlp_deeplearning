{
 "cells": [
  {
   "cell_type": "markdown",
   "metadata": {},
   "source": [
    "# resnet\n",
    "\n",
    "## residual模块\n",
    "ResNet沿用了VGG的那种全用3×33×3卷积，但在卷积和池化层之间加入了批量归一层来加速训练。每次跨层连接跨过两层卷积。这里我们定义一个这样的残差块。注意到如果输入的通道数和输出不一样时（same_shape=False），我们使用一个额外的1×1卷积来做通道变化，同时使用strides=2来把长宽减半。\n",
    "\n",
    "![](https://www.github.com/DragonFive/CVBasicOp/raw/master/1514013854016.jpg)"
   ]
  },
  {
   "cell_type": "code",
   "execution_count": 35,
   "metadata": {
    "collapsed": true
   },
   "outputs": [],
   "source": [
    "from mxnet.gluon import nn\n",
    "from mxnet import nd\n",
    "class Residual(nn.Block):\n",
    "    def __init__(self, channels, same_shape=True, **kwargs):\n",
    "        super(Residual,self).__init__(**kwargs)\n",
    "        strides=1 if same_shape else 2\n",
    "        self.same_shape=same_shape\n",
    "        self.conv1 = nn.Conv2D(channels,kernel_size = 3,strides=strides,padding=1)\n",
    "        self.bn1 = nn.BatchNorm()\n",
    "        self.conv2 = nn.Conv2D(channels,kernel_size = 3,strides=1,padding=1)\n",
    "        self.bn2 = nn.BatchNorm()\n",
    "        if not same_shape:\n",
    "            self.conv3 = nn.Conv2D(channels,kernel_size = 1,strides=strides)\n",
    "            self.bn3 = nn.BatchNorm()\n",
    "    def forward(self, x):\n",
    "        out = nd.relu(self.bn1(self.conv1(x)))\n",
    "        out = self.bn2(self.conv2(out))\n",
    "        if not self.same_shape:\n",
    "            x = self.bn3(self.conv3(x))\n",
    "        return nd.relu(out + x)\n"
   ]
  },
  {
   "cell_type": "markdown",
   "metadata": {},
   "source": [
    "测试"
   ]
  },
  {
   "cell_type": "code",
   "execution_count": 36,
   "metadata": {},
   "outputs": [
    {
     "name": "stdout",
     "output_type": "stream",
     "text": [
      "(4L, 8L, 3L, 3L)\n"
     ]
    }
   ],
   "source": [
    "blk = Residual(8,same_shape=False)\n",
    "blk.initialize()\n",
    "x = nd.random.normal(shape=(4,3,6,6))\n",
    "y = blk(x)\n",
    "print(y.shape)"
   ]
  },
  {
   "attachments": {},
   "cell_type": "markdown",
   "metadata": {},
   "source": [
    "## resnet16结构\n",
    "\n",
    "![image.png](https://www.github.com/DragonFive/CVBasicOp/raw/master/1514012389756.jpg)"
   ]
  },
  {
   "cell_type": "code",
   "execution_count": 50,
   "metadata": {},
   "outputs": [],
   "source": [
    "class Resnet16(nn.Block):\n",
    "    def __init__(self,num_output,verbose=False,**kwargs):\n",
    "        super(Resnet16,self).__init__(**kwargs)\n",
    "        b1 = nn.Sequential()\n",
    "        b1.add(\n",
    "            nn.Conv2D(channels=64,kernel_size=7,strides=2,padding=3),\n",
    "            nn.BatchNorm(),\n",
    "            nn.Activation(activation='relu')\n",
    "            \n",
    "        )\n",
    "        b2 = nn.Sequential()\n",
    "        b2.add(\n",
    "            nn.MaxPool2D(pool_size=3,strides=2),\n",
    "            Residual(64),\n",
    "            Residual(64)\n",
    "        )\n",
    "        b3 = nn.Sequential()\n",
    "        b3.add(\n",
    "            Residual(128,same_shape=False),\n",
    "            Residual(128)\n",
    "        )\n",
    "        b4 = nn.Sequential()\n",
    "        b4.add(\n",
    "            Residual(256,same_shape=False),\n",
    "            Residual(256)\n",
    "        )\n",
    "        b5 = nn.Sequential()\n",
    "        b5.add(\n",
    "            Residual(512,same_shape=False),\n",
    "            Residual(512)\n",
    "        )\n",
    "        b6 = nn.Sequential()\n",
    "        b6.add(\n",
    "            nn.AvgPool2D(pool_size=4),\n",
    "            nn.Flatten(),\n",
    "            nn.Dense(num_output)\n",
    "        )\n",
    "        self.verbose=verbose\n",
    "        self.net = nn.Sequential()\n",
    "        self.net.add(b1,b2,b3,b4,b5,b6)\n",
    "    def forward(self,x):\n",
    "        out = x\n",
    "        for i, b in enumerate(self.net):\n",
    "            out=b(out)\n",
    "            if self.verbose:\n",
    "                print(\"block %d output is %s\"%(i+1,out.shape))\n",
    "        return out"
   ]
  },
  {
   "cell_type": "code",
   "execution_count": 52,
   "metadata": {},
   "outputs": [
    {
     "name": "stdout",
     "output_type": "stream",
     "text": [
      "block 1 output is (4L, 64L, 56L, 56L)\n",
      "block 2 output is (4L, 64L, 27L, 27L)\n",
      "block 3 output is (4L, 128L, 14L, 14L)\n",
      "block 4 output is (4L, 256L, 7L, 7L)\n",
      "block 5 output is (4L, 512L, 4L, 4L)\n",
      "block 6 output is (4L, 10L)\n"
     ]
    },
    {
     "data": {
      "text/plain": [
       "\n",
       "[[-4.530291   -0.5240102  15.62335    -8.492277   10.855072   15.0826435\n",
       "  12.526077   -0.03772478  7.58306     3.8723946 ]\n",
       " [-4.027771   -2.7261052  14.776473   -7.7309847  10.998182   15.311948\n",
       "  12.584428    0.45461935  7.239169    4.0754642 ]\n",
       " [-4.6466947  -1.0142665  16.139532   -8.402838   12.904835   14.8633175\n",
       "  13.069327    0.5838256   8.8780575   3.416175  ]\n",
       " [-4.770364   -1.3705606  16.504946   -6.8040566  12.002779   16.16553\n",
       "  12.887781    0.06493378  7.07369     2.933753  ]]\n",
       "<NDArray 4x10 @cpu(0)>"
      ]
     },
     "execution_count": 52,
     "metadata": {},
     "output_type": "execute_result"
    }
   ],
   "source": [
    "net = Resnet16(10,True)\n",
    "net.initialize()\n",
    "x = nd.random.normal(shape=(4,3,112,112))\n",
    "net(x)"
   ]
  },
  {
   "cell_type": "code",
   "execution_count": null,
   "metadata": {},
   "outputs": [
    {
     "name": "stdout",
     "output_type": "stream",
     "text": [
      "('Start training on ', gpu(0))\n",
      "Epoch 0. Loss: 0.498, Train acc 0.83, Test acc 0.88, Time 46.3 sec\n",
      "Epoch 1. Loss: 0.282, Train acc 0.90, Test acc 0.90, Time 46.4 sec\n",
      "Epoch 2. Loss: 0.225, Train acc 0.92, Test acc 0.91, Time 46.7 sec\n",
      "Epoch 3. Loss: 0.180, Train acc 0.94, Test acc 0.91, Time 46.5 sec\n"
     ]
    }
   ],
   "source": [
    "import sys\n",
    "sys.path.append('..')\n",
    "import utils\n",
    "from mxnet import gluon\n",
    "from mxnet import init\n",
    "\n",
    "train_data, test_data = utils.load_data_fashion_mnist(\n",
    "    batch_size=128, resize=112)\n",
    "\n",
    "ctx = utils.try_gpu()\n",
    "net = Resnet16(10)\n",
    "net.initialize(ctx=ctx, init=init.Xavier())\n",
    "\n",
    "loss = gluon.loss.SoftmaxCrossEntropyLoss()\n",
    "trainer = gluon.Trainer(net.collect_params(),\n",
    "                        'sgd', {'learning_rate': 0.01})\n",
    "utils.train(train_data, test_data, net, loss,\n",
    "            trainer, ctx, num_epochs=5,show=True)"
   ]
  },
  {
   "cell_type": "code",
   "execution_count": null,
   "metadata": {
    "collapsed": true
   },
   "outputs": [],
   "source": []
  }
 ],
 "metadata": {
  "kernelspec": {
   "display_name": "Python [conda env:gluon]",
   "language": "python",
   "name": "conda-env-gluon-py"
  },
  "language_info": {
   "codemirror_mode": {
    "name": "ipython",
    "version": 2
   },
   "file_extension": ".py",
   "mimetype": "text/x-python",
   "name": "python",
   "nbconvert_exporter": "python",
   "pygments_lexer": "ipython2",
   "version": "2.7.13"
  }
 },
 "nbformat": 4,
 "nbformat_minor": 2
}
