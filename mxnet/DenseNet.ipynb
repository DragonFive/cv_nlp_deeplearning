{
 "cells": [
  {
   "cell_type": "markdown",
   "metadata": {},
   "source": [
    "# Densenet\n",
    "\n",
    "densenet是由稠密块(dense block)和过渡块(transition block)构成的\n",
    "\n",
    "## dense block\n",
    "\n",
    "dense block可以看作residual的变体，把加法改成连结的形式。bn+relu+conv.\n",
    "\n",
    "DenseNet的卷积块使用ResNet改进版本的BN->Relu->Conv。每个卷积的输出通道数被称之为growth_rate，这是因为假设输出为in_channels，而且有layers层，那么输出的通道数就是in_channels+growth_rate*layers"
   ]
  },
  {
   "cell_type": "code",
   "execution_count": 5,
   "metadata": {
    "collapsed": true
   },
   "outputs": [],
   "source": [
    "from mxnet import nd\n",
    "from mxnet import gluon\n",
    "from mxnet.gluon import nn\n",
    "\n",
    "def conv_block(channels):\n",
    "    out = nn.Sequential()\n",
    "    out.add(\n",
    "        nn.BatchNorm(),\n",
    "        nn.Activation(activation='relu'),\n",
    "        nn.Conv2D(channels,kernel_size=1),\n",
    "        nn.BatchNorm(),\n",
    "        nn.Activation(activation='relu'),\n",
    "        nn.Conv2D(channels,kernel_size=3,padding=1)\n",
    "    )\n",
    "    return out\n",
    "\n",
    "class DenseBlock(nn.Block):\n",
    "    def __init__(self,layers,growth_rate,**kwargs):\n",
    "        super(DenseBlock,self).__init__(**kwargs)\n",
    "        self.net = nn.Sequential()\n",
    "        for i in range(layers):\n",
    "            self.net.add(\n",
    "                conv_block(growth_rate)\n",
    "            )\n",
    "    def forward(self,x):\n",
    "        for layer in self.net:\n",
    "            out = layer(x)\n",
    "            x = nd.concat(x,out,dim=1)\n",
    "        return out\n",
    "    "
   ]
  },
  {
   "cell_type": "code",
   "execution_count": 6,
   "metadata": {},
   "outputs": [
    {
     "data": {
      "text/plain": [
       "(4L, 10L, 112L, 112L)"
      ]
     },
     "execution_count": 6,
     "metadata": {},
     "output_type": "execute_result"
    }
   ],
   "source": [
    "dblk = DenseBlock(growth_rate=10,layers=2)\n",
    "dblk.initialize()\n",
    "x = nd.random.uniform(shape=(4,3,112,112))\n",
    "dblk(x).shape"
   ]
  },
  {
   "cell_type": "markdown",
   "metadata": {},
   "source": [
    "## 过渡层 transition block\n",
    "\n",
    "用来将通道数减半，并把输入的长宽减半\n"
   ]
  },
  {
   "cell_type": "code",
   "execution_count": 7,
   "metadata": {
    "collapsed": true
   },
   "outputs": [],
   "source": [
    "def transition_block(channels):\n",
    "    out = nn.Sequential()\n",
    "    out.add(\n",
    "        nn.BatchNorm(),\n",
    "        nn.Activation(activation='relu'),\n",
    "        nn.Conv2D(channels,kernel_size=1),\n",
    "        nn.AvgPool2D(pool_size=2,strides=2)\n",
    "    )\n",
    "    return out"
   ]
  },
  {
   "cell_type": "code",
   "execution_count": 8,
   "metadata": {},
   "outputs": [
    {
     "data": {
      "text/plain": [
       "(4L, 8L, 56L, 56L)"
      ]
     },
     "execution_count": 8,
     "metadata": {},
     "output_type": "execute_result"
    }
   ],
   "source": [
    "tsbk = transition_block(8)\n",
    "tsbk.initialize()\n",
    "tsbk(x).shape"
   ]
  },
  {
   "cell_type": "markdown",
   "metadata": {},
   "source": [
    "## densenet的结构\n",
    "\n"
   ]
  },
  {
   "cell_type": "code",
   "execution_count": 9,
   "metadata": {},
   "outputs": [],
   "source": [
    "class DenseNet(nn.Block):\n",
    "    def __init__(self,channels1,layers,growth_rate,num_outputs,verbose=False,**kwargs):\n",
    "        # channels1是第一个conv层的输出数，layers是连续几个稠密块后加一个过渡块，growth_rate是每个稠密块的输出数\n",
    "        super(DenseNet,self).__init__(**kwargs)\n",
    "        self.verbose = verbose\n",
    "        b1 = nn.Sequential()\n",
    "        b1.add(\n",
    "            nn.BatchNorm(),\n",
    "            nn.Activation('relu'),\n",
    "            nn.Conv2D(channels1,kernel_size=7,padding=3,strides=2),\n",
    "            nn.MaxPool2D(pool_size=3,strides=2,padding=1)\n",
    "        )\n",
    "        b2 = nn.Sequential()\n",
    "        for i,layer in enumerate(layers):\n",
    "            b2.add(DenseBlock(layer,growth_rate))\n",
    "            #如果不是最后一层，就加过渡层\n",
    "            if i != len(layers)-1:\n",
    "                b2.add(transition_block(layer//2))\n",
    "        b3 = nn.Sequential()\n",
    "        b3.add(\n",
    "            nn.BatchNorm(),\n",
    "            nn.Activation('relu'),\n",
    "            nn.AvgPool2D(pool_size=3),\n",
    "            nn.Flatten(),\n",
    "            nn.Dense(num_outputs)\n",
    "        )\n",
    "        self.net = nn.Sequential()\n",
    "        self.net.add(b1,b2,b3)\n",
    "    \n",
    "    def forward(self,x):\n",
    "        out = x\n",
    "        for i,layer in enumerate(self.net):\n",
    "            out = layer(out)\n",
    "            if self.verbose:\n",
    "                print(\"layer %d output shape is %s\"%(i+1,out.shape))\n",
    "        return out\n",
    "    "
   ]
  },
  {
   "cell_type": "code",
   "execution_count": 10,
   "metadata": {},
   "outputs": [
    {
     "name": "stdout",
     "output_type": "stream",
     "text": [
      "layer 1 output shape is (12L, 4L, 28L, 28L)\n",
      "layer 2 output shape is (12L, 32L, 3L, 3L)\n",
      "layer 3 output shape is (12L, 10L)\n"
     ]
    },
    {
     "data": {
      "text/plain": [
       "(12L, 10L)"
      ]
     },
     "execution_count": 10,
     "metadata": {},
     "output_type": "execute_result"
    }
   ],
   "source": [
    "net = DenseNet(4,[6,12,24,16],32,10,True)\n",
    "net.initialize()\n",
    "x = nd.random.normal(shape=(12,3,112,112))\n",
    "net(x).shape"
   ]
  },
  {
   "cell_type": "code",
   "execution_count": 11,
   "metadata": {},
   "outputs": [
    {
     "name": "stdout",
     "output_type": "stream",
     "text": [
      "('Start training on ', gpu(0))\n",
      "Epoch 0. Loss: 1.621, Train acc 0.47, Test acc 0.74, Time 105.3 sec\n",
      "Epoch 1. Loss: 0.734, Train acc 0.77, Test acc 0.77, Time 98.9 sec\n",
      "Epoch 2. Loss: 0.550, Train acc 0.81, Test acc 0.83, Time 101.4 sec\n",
      "Epoch 3. Loss: 0.473, Train acc 0.84, Test acc 0.82, Time 109.8 sec\n",
      "Epoch 4. Loss: 0.437, Train acc 0.85, Test acc 0.85, Time 94.7 sec\n"
     ]
    },
    {
     "data": {
      "image/png": "[encoded data removed]",
      "text/plain": [
       "<matplotlib.figure.Figure at 0x7feb3c01b3d0>"
      ]
     },
     "metadata": {},
     "output_type": "display_data"
    }
   ],
   "source": [
    "import sys\n",
    "sys.path.append('..')\n",
    "import utils\n",
    "from mxnet import gluon\n",
    "from mxnet import init\n",
    "\n",
    "train_data, test_data = utils.load_data_fashion_mnist(\n",
    "    batch_size=128, resize=112)\n",
    "\n",
    "ctx = utils.try_gpu()\n",
    "net = DenseNet(64,[6,12,24,16],32,10)\n",
    "net.initialize(ctx=ctx, init=init.Xavier())\n",
    "\n",
    "loss = gluon.loss.SoftmaxCrossEntropyLoss()\n",
    "trainer = gluon.Trainer(net.collect_params(),\n",
    "                        'sgd', {'learning_rate': 0.01})\n",
    "utils.train(train_data, test_data, net, loss,\n",
    "            trainer, ctx, num_epochs=5,show=True)"
   ]
  },
  {
   "cell_type": "code",
   "execution_count": null,
   "metadata": {
    "collapsed": true
   },
   "outputs": [],
   "source": []
  }
 ],
 "metadata": {
  "kernelspec": {
   "display_name": "Python [conda env:gluon]",
   "language": "python",
   "name": "conda-env-gluon-py"
  },
  "language_info": {
   "codemirror_mode": {
    "name": "ipython",
    "version": 2
   },
   "file_extension": ".py",
   "mimetype": "text/x-python",
   "name": "python",
   "nbconvert_exporter": "python",
   "pygments_lexer": "ipython2",
   "version": "2.7.13"
  }
 },
 "nbformat": 4,
 "nbformat_minor": 2
}
