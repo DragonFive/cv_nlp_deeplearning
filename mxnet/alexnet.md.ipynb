{
 "cells": [
  {
   "cell_type": "markdown",
   "metadata": {},
   "source": [
    "# alexnet\n",
    "alexnet网络设计"
   ]
  },
  {
   "cell_type": "code",
   "execution_count": 1,
   "metadata": {},
   "outputs": [],
   "source": [
    "from mxnet import gluon\n",
    "from mxnet.gluon import nn\n",
    "def get_alexnet():\n",
    "    net = nn.Sequential()\n",
    "    with net.name_scope():\n",
    "        net.add(nn.Conv2D(96,kernel_size=11,strides=4,activation='relu'),\n",
    "                nn.MaxPool2D(pool_size=3,strides=2),\n",
    "                nn.Conv2D(256,kernel_size=5,padding=2,activation='relu'),\n",
    "                nn.MaxPool2D(pool_size=3,strides=2),\n",
    "                nn.Conv2D(384,kernel_size=3,padding=1,activation='relu'),\n",
    "                nn.Conv2D(384,kernel_size=3,padding=1,activation='relu'),\n",
    "                nn.Conv2D(256,kernel_size=3,padding=1,activation='relu'),\n",
    "                nn.MaxPool2D(pool_size=3,strides=2),\n",
    "                \n",
    "                nn.Flatten(),\n",
    "                nn.Dense(4096,activation='relu'),\n",
    "                nn.Dropout(.5),\n",
    "                nn.Dense(4096),\n",
    "                nn.BatchNorm(),\n",
    "                nn.Activation('relu'),\n",
    "                nn.Dropout(.5),\n",
    "                nn.Dense(10)\n",
    "        )\n",
    "        return net"
   ]
  },
  {
   "cell_type": "markdown",
   "metadata": {},
   "source": [
    "数据读取"
   ]
  },
  {
   "cell_type": "code",
   "execution_count": null,
   "metadata": {},
   "outputs": [
    {
     "name": "stderr",
     "output_type": "stream",
     "text": [
      "/home/dragon/anaconda2/envs/gluon/lib/python2.7/site-packages/mxnet/gluon/data/vision.py:118: DeprecationWarning: The binary mode of fromstring is deprecated, as it behaves surprisingly on unicode inputs. Use frombuffer instead\n",
      "  label = np.fromstring(fin.read(), dtype=np.uint8).astype(np.int32)\n",
      "/home/dragon/anaconda2/envs/gluon/lib/python2.7/site-packages/mxnet/gluon/data/vision.py:122: DeprecationWarning: The binary mode of fromstring is deprecated, as it behaves surprisingly on unicode inputs. Use frombuffer instead\n",
      "  data = np.fromstring(fin.read(), dtype=np.uint8)\n"
     ]
    },
    {
     "name": "stdout",
     "output_type": "stream",
     "text": [
      "('Start training on ', gpu(0))\n",
      "Epoch 0. Loss: 2.303, Train acc 0.10, Test acc 0.11, Time 87.1 sec\n"
     ]
    }
   ],
   "source": [
    "import sys\n",
    "sys.path.append(\"..\")\n",
    "import utils\n",
    "from mxnet import init\n",
    "train_data, test_data = utils.load_data_fashion_mnist(\n",
    "    batch_size=16, resize=224)\n",
    "\n",
    "ctx=utils.try_gpu()\n",
    "net=get_alexnet()\n",
    "net.initialize(ctx=ctx,init=init.Xavier())\n",
    "loss=gluon.loss.SoftmaxCrossEntropyLoss()\n",
    "trainer=gluon.Trainer(net.collect_params(),'sgd',{'learning_rate':0.01})\n",
    "utils.train(train_data, test_data, net, loss,\n",
    "            trainer, ctx, num_epochs=5)"
   ]
  },
  {
   "cell_type": "code",
   "execution_count": 22,
   "metadata": {},
   "outputs": [
    {
     "name": "stdout",
     "output_type": "stream",
     "text": [
      "<bound method Sequential.collect_params of Sequential(\n",
      "  (0): Conv2D(1 -> 96, kernel_size=(11, 11), stride=(4, 4))\n",
      "  (1): MaxPool2D(size=(3, 3), stride=(2, 2), padding=(0, 0), ceil_mode=False)\n",
      "  (2): Conv2D(96 -> 256, kernel_size=(5, 5), stride=(1, 1), padding=(2, 2))\n",
      "  (3): MaxPool2D(size=(3, 3), stride=(2, 2), padding=(0, 0), ceil_mode=False)\n",
      "  (4): Conv2D(256 -> 384, kernel_size=(3, 3), stride=(1, 1), padding=(1, 1))\n",
      "  (5): Conv2D(384 -> 384, kernel_size=(3, 3), stride=(1, 1), padding=(1, 1))\n",
      "  (6): Conv2D(384 -> 256, kernel_size=(3, 3), stride=(1, 1), padding=(1, 1))\n",
      "  (7): MaxPool2D(size=(3, 3), stride=(2, 2), padding=(0, 0), ceil_mode=False)\n",
      "  (8): Flatten\n",
      "  (9): Dense(256 -> 4096, Activation(relu))\n",
      "  (10): Dropout(p = 0.5)\n",
      "  (11): Dense(4096 -> 4096, linear)\n",
      "  (12): BatchNorm(fix_gamma=False, eps=1e-05, momentum=0.9, axis=1, in_channels=4096)\n",
      "  (13): Activation(relu)\n",
      "  (14): Dropout(p = 0.5)\n",
      "  (15): Dense(4096 -> 10, linear)\n",
      ")>\n"
     ]
    }
   ],
   "source": [
    "net.save_params('alexnet')\n",
    "print(net.collect_params)"
   ]
  },
  {
   "cell_type": "code",
   "execution_count": null,
   "metadata": {
    "collapsed": true
   },
   "outputs": [],
   "source": []
  }
 ],
 "metadata": {
  "kernelspec": {
   "display_name": "Python [conda env:gluon]",
   "language": "python",
   "name": "conda-env-gluon-py"
  },
  "language_info": {
   "codemirror_mode": {
    "name": "ipython",
    "version": 2
   },
   "file_extension": ".py",
   "mimetype": "text/x-python",
   "name": "python",
   "nbconvert_exporter": "python",
   "pygments_lexer": "ipython2",
   "version": "2.7.13"
  }
 },
 "nbformat": 4,
 "nbformat_minor": 2
}
