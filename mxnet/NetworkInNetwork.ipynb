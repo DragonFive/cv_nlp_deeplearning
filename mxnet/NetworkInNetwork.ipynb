{
 "cells": [
  {
   "cell_type": "markdown",
   "metadata": {},
   "source": [
    "# NIN网络\n",
    "\n",
    "网络结构设计"
   ]
  },
  {
   "cell_type": "code",
   "execution_count": 36,
   "metadata": {},
   "outputs": [],
   "source": [
    "from mxnet import gluon\n",
    "from mxnet.gluon import nn\n",
    "def nin_block(channels,kernel_size,padding,strides=1,maxpool=True):\n",
    "    out = nn.Sequential()\n",
    "    out.add(\n",
    "        nn.Conv2D(channels,kernel_size=kernel_size,padding=padding,strides=strides,activation='relu'),\n",
    "        nn.Conv2D(channels=channels, kernel_size=1,\n",
    "                  padding=0, strides=1, activation='relu'),\n",
    "        nn.Conv2D(channels=channels, kernel_size=1,\n",
    "                  padding=0, strides=1, activation='relu'),\n",
    "    )\n",
    "    if maxpool==True:\n",
    "        out.add(nn.MaxPool2D(pool_size=3,strides=2) )\n",
    "    return out\n",
    "def get_nin():\n",
    "    net = nn.Sequential()\n",
    "    with net.name_scope():\n",
    "        net.add(\n",
    "            nin_block(96,11,0,strides=4),\n",
    "            nin_block(256,5,1),\n",
    "            nin_block(384,3,1),\n",
    "            nn.Dropout(.5),\n",
    "            nin_block(10,3,1,maxpool=False),\n",
    "            # 输入为 batch_size x 10 x 5 x 5, 通过AvgPool2D转成\n",
    "            # batch_size x 10 x 1 x 1。\n",
    "            nn.AvgPool2D(pool_size=5),\n",
    "            # 转成 batch_size x 10\n",
    "            nn.Flatten()\n",
    "        )\n",
    "    return net\n",
    "    "
   ]
  },
  {
   "cell_type": "code",
   "execution_count": 33,
   "metadata": {},
   "outputs": [
    {
     "name": "stdout",
     "output_type": "stream",
     "text": [
      "(12L, 10L, 1L, 1L)\n"
     ]
    }
   ],
   "source": [
    "from mxnet import nd\n",
    "net = get_nin()\n",
    "net.initialize()\n",
    "data = nd.random.uniform(shape=(12,1,128,128))\n",
    "y=net(data)\n",
    "print(y.shape)"
   ]
  },
  {
   "cell_type": "code",
   "execution_count": null,
   "metadata": {},
   "outputs": [
    {
     "name": "stdout",
     "output_type": "stream",
     "text": [
      "('Start training on ', gpu(0))\n",
      "Epoch 0. Loss: 2.303, Train acc 0.10, Test acc 0.10, Time 76.9 sec\n"
     ]
    }
   ],
   "source": [
    "import sys\n",
    "sys.path.append('..')\n",
    "import utils\n",
    "from mxnet import init\n",
    "from mxnet import gluon\n",
    "\n",
    "batch_size = 64\n",
    "resize=224\n",
    "train_data, test_data = utils.load_data_fashion_mnist(batch_size,resize=resize)\n",
    "ctx = utils.try_gpu()\n",
    "\n",
    "net=get_nin()\n",
    "net.initialize(ctx=ctx,init=init.Xavier())\n",
    "\n",
    "loss = gluon.loss.SoftmaxCrossEntropyLoss()\n",
    "#train(train_data, test_data, net, loss, trainer, ctx, num_epochs, print_batches=None):\n",
    "trainer = gluon.Trainer(net.collect_params(),'sgd',{'learning_rate':0.1})\n",
    "utils.train(train_data,test_data,net,loss,trainer,ctx,num_epochs=5,show=True)"
   ]
  },
  {
   "cell_type": "code",
   "execution_count": null,
   "metadata": {
    "collapsed": true
   },
   "outputs": [],
   "source": []
  }
 ],
 "metadata": {
  "kernelspec": {
   "display_name": "Python [conda env:gluon]",
   "language": "python",
   "name": "conda-env-gluon-py"
  },
  "language_info": {
   "codemirror_mode": {
    "name": "ipython",
    "version": 2
   },
   "file_extension": ".py",
   "mimetype": "text/x-python",
   "name": "python",
   "nbconvert_exporter": "python",
   "pygments_lexer": "ipython2",
   "version": "2.7.13"
  }
 },
 "nbformat": 4,
 "nbformat_minor": 2
}
