{
 "metadata": {
  "name": "",
  "signature": "sha256:5793a4682600f62d4cd53d9f7d41d48fff4f67fc4fe0fd76833715b076e96400"
 },
 "nbformat": 3,
 "nbformat_minor": 0,
 "worksheets": [
  {
   "cells": [
    {
     "cell_type": "markdown",
     "metadata": {},
     "source": [
      "# \u903b\u8f91\u65af\u8482\u56de\u5f52 \n",
      "\n",
      "\n",
      "![\u903b\u8f91\u65af\u8482\u56de\u5f52\u4e0e\u6700\u5927\u71b5\u6a21\u578b.png](http://upload-images.jianshu.io/upload_images/454341-1db9e7a65b99a759.png?imageMogr2/auto-orient/strip%7CimageView2/2/w/1240)\n",
      "\n",
      "\u4e0b\u9762\u662f\u52a0\u8f7d\u6570\u636e\u96c6\u7684\u7a0b\u5e8f\uff0c\u4e3a\u4e86\u8868\u793a\u5e38\u6570\u9879\u518d\u6bcf\u4e00\u884c\u6570\u636e\u524d\u9762\u52a0\u4e0a1.0"
     ]
    },
    {
     "cell_type": "code",
     "collapsed": false,
     "input": [
      "from numpy import *\n",
      "def loadDataSet(fileName):\n",
      "    dataMat = []; labelMat = []\n",
      "    fr = open(fileName)\n",
      "    for line in fr.readlines():\n",
      "        lineArr = line.strip().split()\n",
      "        dataMat.append([1.0, float(lineArr[0]), float(lineArr[1])])\n",
      "        labelMat.append(float(lineArr[2]))\n",
      "    return dataMat, labelMat"
     ],
     "language": "python",
     "metadata": {},
     "outputs": [],
     "prompt_number": 3
    },
    {
     "cell_type": "markdown",
     "metadata": {},
     "source": [
      "\u4e0b\u9762\u662f\u4e00\u4e2asigmoid\u51fd\u6570"
     ]
    },
    {
     "cell_type": "code",
     "collapsed": false,
     "input": [
      "def sigmoid(inX):\n",
      "    return 1.0/(1+exp(-inX))\n"
     ],
     "language": "python",
     "metadata": {},
     "outputs": [],
     "prompt_number": 2
    },
    {
     "cell_type": "markdown",
     "metadata": {},
     "source": [
      "\u4e0b\u9762\u7684\u68af\u5ea6\u4e0a\u5347\u7b97\u6cd5\u901a\u8fc7\u8fed\u4ee3\u6765\u6700\u4f18\u5316\u6a21\u578b\u53c2\u6570w\n",
      "\n",
      "## \u6279\u91cf\u68af\u5ea6\u4e0a\u5347\u6cd5"
     ]
    },
    {
     "cell_type": "code",
     "collapsed": false,
     "input": [
      "def gradAscent(dataMatIn, classLabels):\n",
      "    dataMatrix = mat(dataMatIn)\n",
      "    labelMat = mat(classLabels).transpose()\n",
      "    m, n     = shape(dataMatrix)\n",
      "    alpha    = 0.001 # \u8fd9\u91cc\u6b65\u8fdb\u9ed8\u8ba4\n",
      "    weights  = ones((n, 1)) # \u884c\u6570\u4e3a\u7279\u5f81\u4e2a\u6570\n",
      "    maxCycles = 500 # \u8fed\u4ee3\u6b21\u6570\n",
      "    for k in range(maxCycles):\n",
      "        h = sigmoid(dataMatrix * weights)\n",
      "        error   = labelMat - h\n",
      "        weights = weights + alpha * dataMatrix.transpose() * error\n",
      "    return weights\n"
     ],
     "language": "python",
     "metadata": {},
     "outputs": [],
     "prompt_number": 10
    },
    {
     "cell_type": "markdown",
     "metadata": {},
     "source": [
      "\u4e0b\u9762\u6765\u6d4b\u8bd5\u8fd9\u6bb5\u4ee3\u7801"
     ]
    },
    {
     "cell_type": "code",
     "collapsed": false,
     "input": [
      "dataArr, labelMat = loadDataSet('testSet.txt')\n",
      "gradAscent(dataArr, labelMat)"
     ],
     "language": "python",
     "metadata": {},
     "outputs": [
      {
       "metadata": {},
       "output_type": "pyout",
       "prompt_number": 4,
       "text": [
        "matrix([[ 1.03619846],\n",
        "        [ 0.83107943],\n",
        "        [-0.27314617]])"
       ]
      }
     ],
     "prompt_number": 4
    },
    {
     "cell_type": "markdown",
     "metadata": {},
     "source": [
      "## \u753b\u51fa\u51b3\u7b56\u8fb9\u754c\n",
      "\n",
      "\n"
     ]
    },
    {
     "cell_type": "code",
     "collapsed": false,
     "input": [
      "%matplotlib inline\n",
      "import matplotlib.pyplot as plt\n",
      "def plotBestFit(weights):\n",
      "    dataMat, labelMat = loadDataSet('testSet.txt')\n",
      "    dataArr = array(dataMat)\n",
      "    n = shape(dataArr)[0]\n",
      "    xcord1 = []; ycord1 = []\n",
      "    xcord2 = []; ycord2 = []\n",
      "    for i in range(n):\n",
      "        if int(labelMat[i]) == 1:\n",
      "            xcord1.append(dataArr[i,1])\n",
      "            ycord1.append(dataArr[i,2])\n",
      "        else:\n",
      "            xcord2.append(dataArr[i,1])\n",
      "            ycord2.append(dataArr[i,2])\n",
      "    fig = plt.figure()\n",
      "    ax = fig.add_subplot(111) # \u4ec0\u4e48\u7528\n",
      "    # \u7ed8\u5236\u4e24\u4e2a\u7c7b\u7684\u5b50\u96c6\n",
      "    ax.scatter(xcord1, ycord1, s = 30, c = 'red', marker='s')\n",
      "    ax.scatter(xcord2, ycord2, s = 30, c = 'green')\n",
      "    x = arange(-3.0, 3.0, 0.1)\n",
      "    y = (- weights[0] - weights[1] * x) / weights[2]\n",
      "    print shape(x),shape(y)\n",
      "    ax.plot(x, y.T)\n",
      "    plt.xlabel('x1')\n",
      "    plt.ylabel('x2')\n",
      "    plt.show()"
     ],
     "language": "python",
     "metadata": {},
     "outputs": [],
     "prompt_number": 8
    },
    {
     "cell_type": "markdown",
     "metadata": {},
     "source": [
      "\u4e0b\u9762\u6d4b\u8bd5\u8fd9\u6bb5\u4ee3\u7801"
     ]
    },
    {
     "cell_type": "code",
     "collapsed": false,
     "input": [
      "dataArr, labelMat = loadDataSet('testSet.txt')\n",
      "weights = gradAscent(dataArr, labelMat)\n",
      "plotBestFit(weights)"
     ],
     "language": "python",
     "metadata": {},
     "outputs": [
      {
       "output_type": "stream",
       "stream": "stdout",
       "text": [
        "(60,) (1, 60)\n"
       ]
      },
      {
       "metadata": {},
       "output_type": "display_data",
       "png": "[encoded data removed]",
       "text": [
        "<matplotlib.figure.Figure at 0x7f01cf5f0310>"
       ]
      }
     ],
     "prompt_number": 11
    },
    {
     "cell_type": "markdown",
     "metadata": {},
     "source": [
      "## \u968f\u673a\u68af\u5ea6\u4e0a\u5347\u6cd5\n",
      "\n",
      "\u6bcf\u6b21\u968f\u673a\u4e0d\u653e\u56de\u7684\u9009\u62e9\u4e00\u6761\u6570\u636e\u8fdb\u884c\u8bad\u7ec3\uff0calpha\u4e5f\u4e0d\u662f\u4e00\u6210\u4e0d\u53d8\u5f53\u7136\u4e5f\u4e0d\u662f\u4e25\u683c\u4e0b\u964d\u7684\uff0c\u800c\u662f\u5448\u5468\u671f\u6027\u4e0b\u964d\u7684\u8d8b\u52bf"
     ]
    },
    {
     "cell_type": "code",
     "collapsed": false,
     "input": [
      "def stocGradAscent(dataMatrix, classLabels, numIter = 150):\n",
      "    m, n = shape(dataMatrix)\n",
      "    dataMatrix = mat(dataMatrix)\n",
      "    weights = ones((n,1))\n",
      "    for j in range(numIter):\n",
      "        dataIndex = range(m)\n",
      "        for i in range(m):\n",
      "            alpha = 4/(1.0+i+j) + 0.01\n",
      "            randIndex = int(random.uniform(0, len(dataIndex)))\n",
      "            h = sigmoid(sum(dataMatrix[randIndex] * weights))\n",
      "            error = (classLabels[randIndex] - h)\n",
      "            weights = weights + alpha * error * dataMatrix[randIndex].transpose()\n",
      "            del(dataIndex[randIndex])\n",
      "    return weights\n",
      "\n",
      "        "
     ],
     "language": "python",
     "metadata": {},
     "outputs": [],
     "prompt_number": 62
    },
    {
     "cell_type": "code",
     "collapsed": false,
     "input": [
      "dataArr2, labelMat2 = loadDataSet('testSet.txt')\n",
      "weights2 = stocGradAscent(dataArr2, labelMat2)\n",
      "plotBestFit(weights2)"
     ],
     "language": "python",
     "metadata": {},
     "outputs": [
      {
       "output_type": "stream",
       "stream": "stdout",
       "text": [
        "(3, 1)\n",
        "(60,)"
       ]
      },
      {
       "output_type": "stream",
       "stream": "stdout",
       "text": [
        " (1, 60)\n"
       ]
      },
      {
       "metadata": {},
       "output_type": "display_data",
       "png": "[encoded data removed]",
       "text": [
        "<matplotlib.figure.Figure at 0x7f01cf726590>"
       ]
      }
     ],
     "prompt_number": 35
    },
    {
     "cell_type": "markdown",
     "metadata": {},
     "source": [
      "# \u7528LR\u8fdb\u884c\u5206\u7c7b\n",
      "\n",
      "\u4e0b\u9762\u7684\u51fd\u6570\u7528\u6765\u628aLR\u7684\u7ed3\u679c\u8f6c\u5316\u4e3a\u4e8c\u5206\u7c7b\u7684\u7ed3\u679c"
     ]
    },
    {
     "cell_type": "code",
     "collapsed": false,
     "input": [
      "def classifyVector(inX, weights):\n",
      "    prob = sigmoid(sum(inX * weights))\n",
      "    if prob > 0.5:\n",
      "        return 1\n",
      "    else:\n",
      "        return 0\n"
     ],
     "language": "python",
     "metadata": {},
     "outputs": [],
     "prompt_number": 36
    },
    {
     "cell_type": "markdown",
     "metadata": {},
     "source": [
      "\u4e0b\u9762\u7684\u51fd\u6570\u7528\u6765\u5bf9\u8bad\u7ec3\u96c6\u6765\u8bad\u7ec3\u5206\u7c7b\u5668\uff0c\u7136\u540e\u7528\u6d4b\u8bd5\u96c6\u6765\u8ba1\u7b97\u9519\u8bef\u7387"
     ]
    },
    {
     "cell_type": "code",
     "collapsed": false,
     "input": [
      "def colicTest():\n",
      "    frTrain = open('horseColicTraining.txt')\n",
      "    frTest = open('horseColicTest.txt')\n",
      "    trainingSet = []; trainingLabels = []\n",
      "    for line in frTrain.readlines():\n",
      "        currLine = line.strip().split('\\t')\n",
      "        lineArr  = []\n",
      "        for i in range(21):\n",
      "            lineArr.append(float(currLine[i]))\n",
      "        trainingSet.append(lineArr)\n",
      "        trainingLabels.append(float(currLine[21]))\n",
      "    trainingWights = stocGradAscent(trainingSet, trainingLabels, 500)\n",
      "    # \u4e0b\u9762\u5f00\u59cb\u7528\u6d4b\u8bd5\u96c6\u6765\u505a\u5206\u7c7b\n",
      "    errorCount = 0; numTestVec = 0.0;\n",
      "    for line in frTest.readlines():\n",
      "        currLine = line.strip().split('\\t')\n",
      "        lineArr  = []\n",
      "        for i in range(21):\n",
      "            lineArr.append(float(currLine[i]))\n",
      "        if int(classifyVector(lineArr, trainingWights)) != int(currLine[21]):\n",
      "            errorCount += 1\n",
      "        numTestVec += 1.0\n",
      "    errorRate = (float(errorCount) / numTestVec)\n",
      "    return errorRate\n"
     ],
     "language": "python",
     "metadata": {},
     "outputs": [],
     "prompt_number": 66
    },
    {
     "cell_type": "markdown",
     "metadata": {},
     "source": [
      "\u4e0b\u9762\u662f\u591a\u6b21\u8fdb\u884c\u6d4b\u8bd5\u6765\u53d6\u5f97\u5e73\u5747\u9519\u8bef\u7387"
     ]
    },
    {
     "cell_type": "code",
     "collapsed": false,
     "input": [
      "def multiTest():\n",
      "    numTests = 10; errorSum = 0.0\n",
      "    for i in range(numTests):\n",
      "        errorSum += colicTest()\n",
      "    print 'average error rate is:',errorSum/float(numTests)"
     ],
     "language": "python",
     "metadata": {},
     "outputs": [],
     "prompt_number": 60
    },
    {
     "cell_type": "markdown",
     "metadata": {},
     "source": [
      "\u4e0b\u9762\u8fdb\u884c\u6d4b\u8bd5"
     ]
    },
    {
     "cell_type": "code",
     "collapsed": false,
     "input": [
      "multiTest()"
     ],
     "language": "python",
     "metadata": {},
     "outputs": [
      {
       "output_type": "stream",
       "stream": "stdout",
       "text": [
        "average error rate is: 0.364179104478\n"
       ]
      }
     ],
     "prompt_number": 68
    },
    {
     "cell_type": "markdown",
     "metadata": {},
     "source": [
      "\u4ece\u8bad\u7ec3\u89d2\u5ea6\u6765\u8bf4\uff1a\u9996\u5148LR\u7684\u5206\u5e03\u5f0f\u4f18\u5316SGD\u53d1\u5c55\u6bd4\u8f83\u6210\u719f\uff0c\u4f60\u7ebf\u4e0a\u8bad\u7ec3\u80af\u5b9a\u8981\u7528\u5230\u8bb8\u591a\u673a\u5668\uff0c\u7b97\u6cd5\u8981\u53ef\u5206\u5e03\u3002\n",
      "\n",
      "\u4ece\u5728\u7ebf\u9884\u6d4bCTR\u7684\u89d2\u5ea6\u6765\u8bf4\uff1aLR\u7684\u9884\u6d4b\u4e5f\u53ef\u4ee5\u5728\u7279\u5f81\u7ea7\u522b\u5e76\u884c\uff0c\u56e0\u4e3a\u4ed6\u662f\u4e00\u4e2a\u7ebf\u6027\u6a21\u578b\uff0c\u8fd9\u6709\u4ec0\u4e48\u597d\u5904\u5462\uff1f\u6bd4\u5982\u8bf4\u4f60\u9884\u6d4b\u4e00\u6b21\u70b9\u51fb\u884c\u4e3a\u7528\u5230\u5341\u4ebf\u4e2a\u7279\u5f81\uff0c\u5176\u4e2d9\u4ebf\u4e2a\u7279\u5f81\u53ef\u80fd\u66f4\u65b0\u5f88\u4e0d\u9891\u7e41\uff0c\u6216\u8005\u5bf9\u66f4\u65b0\u4e0d\u654f\u611f\uff0c\u4f60\u53ef\u80fd\u4e3a\u4e86\u6027\u80fd\u8981\u505a\u7f13\u5b58\u3002\u5bf9\u4e8eLR\u6765\u8bf4\uff0c\u4f60\u53ef\u4ee5\u628a\u8fd99\u4ebf\u4e2a\u7279\u5f81\u548c\u6743\u91cd\u7684\u70b9\u4e58\u7f13\u5b58\u4e0b\u6765\u3002\u8fd9\u6837\u6bcf\u6b21\u8ba1\u7b97\u7684\u65f6\u5019\u5c31\u5c11\u4e86\u5f88\u591a\u5185\u5b58\u642c\u8fd0\u548cCPU\u65f6\u95f4\u6d88\u8017\u3002\u5982\u679c\u662f\u51b3\u7b56\u6811\u505a\u8fd9\u79cd\u4f18\u5316\u5c31\u56f0\u96be\u5f88\u591a\u3002\u6bd4\u5982\u8bf4\u6dd8\u5b9d\uff0c\u5546\u54c1\u7684\u7279\u5f81\u66f4\u65b0\u662f\u5f88\u6162\u7684\uff0c\u6216\u8005\u8bf4\u4e00\u65f6\u534a\u4f1a\u4e0d\u66f4\u65b0\u4e5f\u4e0d\u81f3\u4e8e\u600e\u4e48\u6837\uff0c\u90a3\u4f60\u7f13\u5b58\u4e0b\u6765\uff0c\u7528\u6237\u73a9\u547d\u5237\u6dd8\u5b9d\u9996\u9875\u7684\u65f6\u5019\u6bcf\u6b21\u5b9e\u9645\u8ba1\u7b97\u7684\u662f\u90a3\u4e00\u4ebf\u5bf9\u66f4\u65b0\u6bd4\u8f83\u654f\u611f\u7684\u7279\u5f81\u7684\u6570\u503c\u3002\n",
      "\n"
     ]
    },
    {
     "cell_type": "code",
     "collapsed": false,
     "input": [],
     "language": "python",
     "metadata": {},
     "outputs": []
    }
   ],
   "metadata": {}
  }
 ]
}