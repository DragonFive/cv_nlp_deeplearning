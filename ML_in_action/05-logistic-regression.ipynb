{
 "metadata": {
  "name": "",
  "signature": "sha256:34d6bdb1d002dc8d9ad1581b6361e7655c4e86ff1307cefbd60127ee92c8d998"
 },
 "nbformat": 3,
 "nbformat_minor": 0,
 "worksheets": [
  {
   "cells": [
    {
     "cell_type": "markdown",
     "metadata": {},
     "source": [
      "# \u903b\u8f91\u65af\u8482\u56de\u5f52 \n",
      "\n",
      "\n",
      "![\u903b\u8f91\u65af\u8482\u56de\u5f52\u4e0e\u6700\u5927\u71b5\u6a21\u578b.png](http://upload-images.jianshu.io/upload_images/454341-1db9e7a65b99a759.png?imageMogr2/auto-orient/strip%7CimageView2/2/w/1240)\n",
      "\n",
      "\u4e0b\u9762\u662f\u52a0\u8f7d\u6570\u636e\u96c6\u7684\u7a0b\u5e8f\uff0c\u4e3a\u4e86\u8868\u793a\u5e38\u6570\u9879\u518d\u6bcf\u4e00\u884c\u6570\u636e\u524d\u9762\u52a0\u4e0a1.0"
     ]
    },
    {
     "cell_type": "code",
     "collapsed": false,
     "input": [
      "from numpy import *\n",
      "def loadDataSet(fileName):\n",
      "    dataMat = []; labelMat = []\n",
      "    fr = open(fileName)\n",
      "    for line in fr.readlines():\n",
      "        lineArr = line.strip().split()\n",
      "        dataMat.append([1.0, float(lineArr[0]), float(lineArr[1])])\n",
      "        labelMat.append(float(lineArr[2]))\n",
      "    return dataMat, labelMat"
     ],
     "language": "python",
     "metadata": {},
     "outputs": [],
     "prompt_number": 5
    },
    {
     "cell_type": "markdown",
     "metadata": {},
     "source": [
      "\u4e0b\u9762\u662f\u4e00\u4e2asigmoid\u51fd\u6570"
     ]
    },
    {
     "cell_type": "code",
     "collapsed": false,
     "input": [
      "def sigmoid(inX):\n",
      "    return 1.0/(1+exp(-inX))\n"
     ],
     "language": "python",
     "metadata": {},
     "outputs": [],
     "prompt_number": 2
    },
    {
     "cell_type": "markdown",
     "metadata": {},
     "source": [
      "\u4e0b\u9762\u7684\u68af\u5ea6\u4e0a\u5347\u7b97\u6cd5\u901a\u8fc7\u8fed\u4ee3\u6765\u6700\u4f18\u5316\u6a21\u578b\u53c2\u6570w"
     ]
    },
    {
     "cell_type": "code",
     "collapsed": false,
     "input": [
      "def gradAscent(dataMatIn, classLabels):\n",
      "    dataMatrix = mat(dataMatIn)\n",
      "    labelMat = mat(classLabels).transpose()\n",
      "    m, n     = shape(dataMatrix)\n",
      "    alpha    = 0.001 # \u8fd9\u91cc\u6b65\u8fdb\u9ed8\u8ba4\n",
      "    weights  = ones((n, 1)) # \u884c\u6570\u4e3a\u7279\u5f81\u4e2a\u6570\n",
      "    maxCycles = 500 # \u8fed\u4ee3\u6b21\u6570\n",
      "    for k in range(maxCycles):\n",
      "        h = sigmoid(dataMatrix * weights)\n",
      "        error   = labelMat - h\n",
      "        weights = weights + alpha * dataMatrix.transpose() * error\n",
      "    return weights\n"
     ],
     "language": "python",
     "metadata": {},
     "outputs": [],
     "prompt_number": 7
    },
    {
     "cell_type": "markdown",
     "metadata": {},
     "source": [
      "\u4e0b\u9762\u6765\u6d4b\u8bd5\u8fd9\u6bb5\u4ee3\u7801"
     ]
    },
    {
     "cell_type": "code",
     "collapsed": false,
     "input": [
      "dataArr, labelMat = loadDataSet('testSet.txt')\n",
      "gradAscent(dataArr, labelMat)"
     ],
     "language": "python",
     "metadata": {},
     "outputs": [
      {
       "metadata": {},
       "output_type": "pyout",
       "prompt_number": 8,
       "text": [
        "matrix([[ 4.12414349],\n",
        "        [ 0.48007329],\n",
        "        [-0.6168482 ]])"
       ]
      }
     ],
     "prompt_number": 8
    },
    {
     "cell_type": "code",
     "collapsed": false,
     "input": [],
     "language": "python",
     "metadata": {},
     "outputs": []
    }
   ],
   "metadata": {}
  }
 ]
}