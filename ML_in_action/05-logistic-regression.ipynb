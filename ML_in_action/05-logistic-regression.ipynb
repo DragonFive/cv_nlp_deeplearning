{
 "metadata": {
  "name": "",
  "signature": "sha256:aeed5132a0732d8902c6ee2dfc5e65d4af6061210b427a4e69b3b1517d81bfed"
 },
 "nbformat": 3,
 "nbformat_minor": 0,
 "worksheets": [
  {
   "cells": [
    {
     "cell_type": "markdown",
     "metadata": {},
     "source": [
      "# \u903b\u8f91\u65af\u8482\u56de\u5f52 \n",
      "\n",
      "\n",
      "![\u903b\u8f91\u65af\u8482\u56de\u5f52\u4e0e\u6700\u5927\u71b5\u6a21\u578b.png](http://upload-images.jianshu.io/upload_images/454341-1db9e7a65b99a759.png?imageMogr2/auto-orient/strip%7CimageView2/2/w/1240)\n",
      "\n",
      "\u4e0b\u9762\u662f\u52a0\u8f7d\u6570\u636e\u96c6\u7684\u7a0b\u5e8f\uff0c\u4e3a\u4e86\u8868\u793a\u5e38\u6570\u9879\u518d\u6bcf\u4e00\u884c\u6570\u636e\u524d\u9762\u52a0\u4e0a1.0"
     ]
    },
    {
     "cell_type": "code",
     "collapsed": false,
     "input": [
      "from numpy import *\n",
      "def loadDataSet(fileName):\n",
      "    dataMat = []; labelMat = []\n",
      "    fr = open(fileName)\n",
      "    for line in fr.readlines():\n",
      "        lineArr = line.strip().split()\n",
      "        dataMat.append([1.0, float(lineArr[0]), float(lineArr[1])])\n",
      "        labelMat.append(float(lineArr[2]))\n",
      "    return dataMat, labelMat"
     ],
     "language": "python",
     "metadata": {},
     "outputs": [],
     "prompt_number": 4
    },
    {
     "cell_type": "markdown",
     "metadata": {},
     "source": [
      "\u4e0b\u9762\u662f\u4e00\u4e2asigmoid\u51fd\u6570"
     ]
    },
    {
     "cell_type": "code",
     "collapsed": false,
     "input": [
      "def sigmoid(inX):\n",
      "    return 1.0/(1+exp(-inX))\n"
     ],
     "language": "python",
     "metadata": {},
     "outputs": [],
     "prompt_number": 5
    },
    {
     "cell_type": "markdown",
     "metadata": {},
     "source": [
      "\u4e0b\u9762\u7684\u68af\u5ea6\u4e0a\u5347\u7b97\u6cd5\u901a\u8fc7\u8fed\u4ee3\u6765\u6700\u4f18\u5316\u6a21\u578b\u53c2\u6570w"
     ]
    },
    {
     "cell_type": "code",
     "collapsed": false,
     "input": [
      "def gradAscent(dataMatIn, classLabels):\n",
      "    dataMatrix = mat(dataMatIn)\n",
      "    labelMat = mat(classLabels).transpose()\n",
      "    m, n     = shape(dataMatrix)\n",
      "    alpha    = 0.001 # \u8fd9\u91cc\u6b65\u8fdb\u9ed8\u8ba4\n",
      "    weights  = ones((n, 1)) # \u884c\u6570\u4e3a\u7279\u5f81\u4e2a\u6570\n",
      "    maxCycles = 500 # \u8fed\u4ee3\u6b21\u6570\n",
      "    for k in range(maxCycles):\n",
      "        h = sigmoid(dataMatrix * weights)\n",
      "        error   = labelMat - h\n",
      "        weights = weights + alpha * dataMatrix.transpose() * error\n",
      "    return weights\n"
     ],
     "language": "python",
     "metadata": {},
     "outputs": [],
     "prompt_number": 3
    },
    {
     "cell_type": "markdown",
     "metadata": {},
     "source": [
      "\u4e0b\u9762\u6765\u6d4b\u8bd5\u8fd9\u6bb5\u4ee3\u7801"
     ]
    },
    {
     "cell_type": "code",
     "collapsed": false,
     "input": [
      "dataArr, labelMat = loadDataSet('testSet.txt')\n",
      "gradAscent(dataArr, labelMat)"
     ],
     "language": "python",
     "metadata": {},
     "outputs": [
      {
       "metadata": {},
       "output_type": "pyout",
       "prompt_number": 8,
       "text": [
        "matrix([[ 4.12414349],\n",
        "        [ 0.48007329],\n",
        "        [-0.6168482 ]])"
       ]
      }
     ],
     "prompt_number": 8
    },
    {
     "cell_type": "markdown",
     "metadata": {},
     "source": [
      "## \u753b\u51fa\u51b3\u7b56\u8fb9\u754c\n",
      "\n",
      "\n"
     ]
    },
    {
     "cell_type": "code",
     "collapsed": false,
     "input": [
      "%matplotlib inline\n",
      "import matplotlib.pyplot as plt\n",
      "def plotBestFit(weights):\n",
      "    dataMat, labelMat = loadDataSet('testSet.txt')\n",
      "    dataArr = array(dataMat)\n",
      "    n = shape(dataArr)[0]\n",
      "    xcord1 = []; ycord1 = []\n",
      "    xcord2 = []; ycord2 = []\n",
      "    for i in range(n):\n",
      "        if int(labelMat[i]) == 1:\n",
      "            xcord1.append(dataArr[i,1])\n",
      "            ycord1.append(dataArr[i,2])\n",
      "        else:\n",
      "            xcord2.append(dataArr[i,1])\n",
      "            ycord2.append(dataArr[i,2])\n",
      "    fig = plt.figure()\n",
      "    ax = fig.add_subplot(111) # \u4ec0\u4e48\u7528\n",
      "    # \u7ed8\u5236\u4e24\u4e2a\u7c7b\u7684\u5b50\u96c6\n",
      "    ax.scatter(xcord1, ycord1, s = 30, c = 'red', marker='s')\n",
      "    ax.scatter(xcord2, ycord2, s = 30, c = 'green')\n",
      "    x = arange(-3.0, 3.0, 0.1)\n",
      "    y = (- weights[0] - weights[1] * x) / weights[2]\n",
      "    print shape(x),shape(y)\n",
      "    ax.plot(x, y.T)\n",
      "    plt.xlabel('x1')\n",
      "    plt.ylabel('x2')\n",
      "    plt.show()"
     ],
     "language": "python",
     "metadata": {},
     "outputs": [],
     "prompt_number": 17
    },
    {
     "cell_type": "markdown",
     "metadata": {},
     "source": [
      "\u4e0b\u9762\u6d4b\u8bd5\u8fd9\u6bb5\u4ee3\u7801"
     ]
    },
    {
     "cell_type": "code",
     "collapsed": false,
     "input": [
      "dataArr, labelMat = loadDataSet('testSet.txt')\n",
      "weights = gradAscent(dataArr, labelMat)\n",
      "plotBestFit(weights)"
     ],
     "language": "python",
     "metadata": {},
     "outputs": [
      {
       "output_type": "stream",
       "stream": "stdout",
       "text": [
        "(60,) (1, 60)\n"
       ]
      },
      {
       "metadata": {},
       "output_type": "display_data",
       "png": "[encoded data removed]",
       "text": [
        "<matplotlib.figure.Figure at 0x7f1bb53f3350>"
       ]
      }
     ],
     "prompt_number": 18
    },
    {
     "cell_type": "code",
     "collapsed": false,
     "input": [],
     "language": "python",
     "metadata": {},
     "outputs": []
    }
   ],
   "metadata": {}
  }
 ]
}