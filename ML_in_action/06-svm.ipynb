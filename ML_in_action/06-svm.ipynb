{
 "metadata": {
  "name": "",
  "signature": "sha256:6e7099c22a7d36dc9c9204ef41c8ded8336ace846da70b172e11d8d8dd0819e7"
 },
 "nbformat": 3,
 "nbformat_minor": 0,
 "worksheets": [
  {
   "cells": [
    {
     "cell_type": "markdown",
     "metadata": {},
     "source": [
      "# \u652f\u6301\u5411\u91cf\u673a\n",
      "\n",
      "\u652f\u6301\u5411\u91cf\u673a\u7684\u57fa\u672c\u6a21\u578b\u662f\u5b9a\u4e49\u5728\u7279\u5f81\u7a7a\u95f4\u4e0a\u7684\u95f4\u9694\u6700\u5927\u7684\u7ebf\u6027\u5206\u7c7b\u5668\uff0c\u5b66\u4e60\u7b56\u7565\u5c31\u662f\u95f4\u9694\u6700\u5927\u5316\uff0c\u53ef\u5f62\u5f0f\u5316\u4e3a\u4e00\u4e2a\u6c42\u89e3\u51f8\u4e8c\u6b21\u89c4\u5212\u7684\u95ee\u9898\u3002\n",
      "\n",
      "\u5f53\u8bad\u7ec3\u7684\u6570\u636e\u7ebf\u6027\u53ef\u5206\u65f6\uff0c\u901a\u8fc7\u786c\u95f4\u9694\u6700\u5927\u5316(hard margin maximization)\uff0c\u5b66\u4e60\u4e00\u4e2a\u7ebf\u6027\u7684\u5206\u7c7b\u5668\uff0c\u5373\u7ebf\u6027\u53ef\u5206\u652f\u6301\u5411\u91cf\u673a\u3002\n",
      "\n",
      "\u5f53\u8bad\u7ec3\u7684\u6570\u636e\u8fd1\u4f3c\u7ebf\u6027\u53ef\u5206\u65f6\uff0c\u901a\u8fc7\u8f6f\u95f4\u9694\u6700\u5927\u5316(soft margin maximization),\u5b66\u4e60\u4e00\u4e2a\u7ebf\u6027\u652f\u6301\u5411\u91cf\u673a\u3002\n",
      "\n",
      "\u5f53\u8bad\u7ec3\u6570\u636e\u7ebf\u6027\u4e0d\u53ef\u5206\u65f6\uff0c\u901a\u8fc7\u4f7f\u7528\u6838\u6280\u5de7\u4ee5\u53ca\u8f6f\u95f4\u9694\u6700\u5927\u5316\uff0c\u5b66\u4e60\u975e\u7ebf\u6027\u652f\u6301\u5411\u91cf\u673a\u3002\n",
      "\n",
      "\u652f\u6301\u5411\u91cf\u673a\u7684\u8f93\u5165\u90fd\u7531\u8f93\u5165\u7a7a\u95f4\u8f6c\u6362\u6210\u7279\u5f81\u7a7a\u95f4\uff0c\u652f\u6301\u5411\u91cf\u673a\u7684\u5b66\u4e60\u662f\u5728\u7279\u5f81\u7a7a\u95f4\u8fdb\u884c\u7684\u3002\n",
      "\n",
      "\n",
      "\n",
      "## \u7b80\u5316\u7248SMO\u7b97\u6cd5\n",
      "\n",
      "SMO\u7b97\u6cd5\u4e2d\u7684\u8f85\u52a9\u51fd\u6570"
     ]
    },
    {
     "cell_type": "code",
     "collapsed": false,
     "input": [
      "def loadDataSet(fileName):\n",
      "    dataMat = []; labelMat = []\n",
      "    fr = open(fileName)\n",
      "    for line in fr.readlines():\n",
      "        lineArr = line.strip().split('\\t')\n",
      "        dataMat.append([float(lineArr[0]), float(lineArr[1])])\n",
      "        labelMat.append(float(lineArr[2]))\n",
      "    return dataMat, labelMat"
     ],
     "language": "python",
     "metadata": {},
     "outputs": [],
     "prompt_number": 1
    },
    {
     "cell_type": "markdown",
     "metadata": {},
     "source": [
      "\u4e0b\u9762\u7684\u7a0b\u5e8f\u662f\u5df2\u7ecf\u9009\u597d\u4e86i,\u6765\u9009\u62e9\u4e00\u4e2aj\u6570\u636e\u70b9"
     ]
    },
    {
     "cell_type": "code",
     "collapsed": false,
     "input": [
      "def selectJrand(i, m):\n",
      "    j = i\n",
      "    while j == i:\n",
      "        j = int(random.uniform(0, m))\n",
      "    return j"
     ],
     "language": "python",
     "metadata": {},
     "outputs": [],
     "prompt_number": 2
    },
    {
     "cell_type": "markdown",
     "metadata": {},
     "source": [
      "\u4e0b\u9762\u7684\u8f85\u52a9\u51fd\u6570\u7528\u4e8e\u8c03\u6574\u5927\u4e8eH\u6216\u5c0f\u4e8eL\u7684alpha\u503c"
     ]
    },
    {
     "cell_type": "code",
     "collapsed": false,
     "input": [
      "def clipAlpha(aj, H, L):\n",
      "    if aj > H:\n",
      "        aj = H\n",
      "    if aj < L:\n",
      "        aj = L\n",
      "    return aj"
     ],
     "language": "python",
     "metadata": {},
     "outputs": [],
     "prompt_number": 4
    },
    {
     "cell_type": "code",
     "collapsed": false,
     "input": [],
     "language": "python",
     "metadata": {},
     "outputs": []
    }
   ],
   "metadata": {}
  }
 ]
}