{
 "metadata": {
  "name": "",
  "signature": "sha256:192427b13a14dbe52054afea4237248a99a9409d902ab68065f810374d9f0c43"
 },
 "nbformat": 3,
 "nbformat_minor": 0,
 "worksheets": [
  {
   "cells": [
    {
     "cell_type": "markdown",
     "metadata": {},
     "source": [
      "# adaboost\u7b97\u6cd5 \n",
      "\n",
      "adaboost\u662f\u4e00\u79cd\u6700\u6d41\u884c\u7684\u96c6\u6210\u7b97\u6cd5(ensemble method)\u6216\u5143\u65b9\u6cd5(meta algorithm)\uff0c\u53ef\u4ee5\u5bf9\u5176\u4ed6\u7b97\u6cd5\u8fdb\u884c\u7ec4\u5408,\u7b97\u6cd5\u7684\u9519\u8bef\u7387\u662f\u5448\u6307\u6570\u7ea7\u4e0b\u964d\u7684\n",
      "\n",
      "**\u4f18\u70b9:** \u6cdb\u5316\u9519\u8bef\u7387\u4f4e\uff0c\u6613\u7f16\u7801\uff0c\u53ef\u4ee5\u5e94\u7528\u518d\u5927\u90e8\u5206\u5206\u7c7b\u5668\u4e0a\uff0c\u65e0\u53c2\u6570\u8c03\u6574 \n",
      "\n",
      "**\u7f3a\u70b9:** \u5bf9\u79bb\u7fa4\u70b9\u654f\u611f\n",
      "\n",
      "**\u4f7f\u7528\u6570\u636e\u7c7b\u578b:** \u6570\u503c\u578b\u548c\u6807\u79f0\u578b\u6570\u636e\n",
      "\n",
      "\n",
      "adaboost\u7b97\u6cd5\u662f\u7528\u6765\u63d0\u5347**\u5206\u7c7b**\u6027\u80fd\u7684\uff0c\u5b83\u4f7f\u7528\u7684\u5f31\u5206\u7c7b\u5668\u5c31\u53ef\u4ee5\u4f7f\u7528\u5404\u79cd\u5404\u6837\u7684\u5206\u7c7b\u5668,\u6bd4\u5982k\u8fd1\u90bb\u3001\u51b3\u7b56\u6811\u3001\u8d1d\u53f6\u65af\u3001SVM\u7b49\n",
      "\n",
      "## \u5355\u5c42\u51b3\u7b56\u6811\u6784\u5efa\u5f31\u5206\u7c7b\u5668\n",
      "\n",
      "\u4ec5\u57fa\u4e8e\u5355\u4e2a\u7279\u5f81\u505a\u51b3\u7b56"
     ]
    },
    {
     "cell_type": "code",
     "collapsed": false,
     "input": [
      "from numpy import *\n",
      "def loadDataSet():\n",
      "    myDat = matrix([[1.,2.1],\n",
      "                 [2.,1.1],\n",
      "                 [1.3,1.],\n",
      "                 [1.,1.],\n",
      "                 [2.,1.]])\n",
      "    classLabels = [1.0,1.0,-1.0,-1.0,1.0]\n",
      "    return myDat,classLabels\n"
     ],
     "language": "python",
     "metadata": {},
     "outputs": [],
     "prompt_number": 6
    },
    {
     "cell_type": "markdown",
     "metadata": {},
     "source": [
      "\u4e0b\u9762\u6d4b\u8bd5\u8fd9\u4e2a\u52a0\u8f7d\u6570\u636e\u4ee3\u7801"
     ]
    },
    {
     "cell_type": "code",
     "collapsed": false,
     "input": [
      "myDat,classLabels = loadDataSet()"
     ],
     "language": "python",
     "metadata": {},
     "outputs": [],
     "prompt_number": 7
    },
    {
     "cell_type": "markdown",
     "metadata": {},
     "source": [
      "\u4e0b\u9762\u7684\u7a0b\u5e8f\u901a\u8fc7\u9608\u503c\u5224\u65ad\u5bf9\u6570\u636e\u8fdb\u884c\u5206\u7c7b\uff0c\u76f8\u5f53\u4e8e\u7528\u5f53\u524d\u7684\u51b3\u7b56\u9762\u6765\u4f30\u8ba1\u8f93\u5165\u503c\u7684\u6807\u7b7e\n",
      "\n",
      "\u5176\u4e2d\u53c2\u6570threshIneq\u8868\u793a\u7684\u662f\u4e0d\u7b49\u5f0f\u5224\u65ad\u7684\u7c7b\u578b\uff0cthreshVal\u662f\u4e0d\u7b49\u5f0f\u5224\u65ad\u7684\u503c"
     ]
    },
    {
     "cell_type": "code",
     "collapsed": false,
     "input": [
      "def stumpClassify(dataMatrix,dimen,threshVal,threshIneq):\n",
      "    retArray = ones((shape(dataMatrix)[0],1))\n",
      "    if threshIneq == 'lt':\n",
      "        retArray[dataMatrix[:, dimen] <= threshVal] = -1.0\n",
      "    else:\n",
      "        retArray[dataMatrix[:, dimen] >  threshVal] = -1.0\n",
      "    return retArray"
     ],
     "language": "python",
     "metadata": {},
     "outputs": [],
     "prompt_number": 8
    },
    {
     "cell_type": "markdown",
     "metadata": {},
     "source": [
      "\u4e0b\u9762\u7684\u7a0b\u5e8f\u5728\u5f53\u524d\u7684\u6570\u636e\u96c6\u4e0a\u904d\u5386\u6240\u6709\u7684\u7279\u5f81\u7684\u6240\u6709\u503c\uff0c\u6765\u627e\u5230\u6700\u4f18\u7684\u7279\u5f81\u548c\u5b83\u7684\u6700\u4f18\u5207\u5206\u70b9\n",
      "\n",
      "\u5b83\u7684\u8f93\u5165 dataArr,\u8868\u793a\u7684\u662f\u6570\u636e\u96c6\u3002 classLabels\u662f\u6570\u636e\u5bf9\u5e94\u7684\u771f\u503c\uff0c\u7528\u4e8e\u4e0e\u5207\u5206\u70b9\u6784\u6210\u7684\u51b3\u7b56\u6811\u4f30\u8ba1\u7684\u503c\u8fdb\u884c\u6bd4\u8f83\u6765\u8ba1\u7b97\u8bef\u5dee\u7387\uff0cD\u662f\u6570\u636e\u96c6\u4e0a\u6bcf\u4e2a\u6570\u636e\u7684\u6743\u91cd\u5411\u91cf"
     ]
    },
    {
     "cell_type": "code",
     "collapsed": false,
     "input": [
      "def buildStump(dataArr, classLabels, D):\n",
      "    dataMatrix = mat(dataArr)        # \u539f\u59cb\u6570\u636e\u90fd\u8f6c\u5316\u6210mat\u65b9\u4fbf\u8ba1\u7b97\n",
      "    lableMat   = mat(classLabels).T  # \n",
      "    m,n = shape(dataMatrix)\n",
      "    numSteps = 10.0 # \u8868\u793a\u7684\u662f\u6bcf\u4e2a\u7279\u5f81\u53d6\u51e0\u4e2a\u503c\u6765\u904d\u5386\n",
      "    bestStump = {}  # \u5b58\u50a8\u7684\u662f\u5f53\u524d\u7684\u6700\u4f18\u5f31\u5206\u7c7b\u5668\n",
      "    bestClasEst = mat(zeros((m,1))) # \u4f9d\u636e\u5f53\u524d\u7684\u51b3\u7b56\u6811\u5f97\u5230\u7684\u4f30\u8ba1\u503c\n",
      "    minError = inf  # \u8bb0\u5f55\u8fc7\u7a0b\u4e2d\u5f97\u5230\u7684\u6700\u5c0f\u7684\u9519\u8bef\u7387\n",
      "    for i in range(n):\n",
      "        rangeMin = dataMatrix[:,i].min()\n",
      "        rangeMax = dataMatrix[:,i].max()\n",
      "        stepSize = (rangeMax - rangeMin) / numSteps\n",
      "        for j in range(-1, int(numSteps)+1):\n",
      "            for inequal in ['lt','gt']:\n",
      "                threshVal = rangeMin + float(j) * stepSize;\n",
      "                predictVals = stumpClassify(dataMatrix, i, threshVal, inequal)\n",
      "                errArr = mat(ones((m, 1)))\n",
      "                errArr[predictVals == lableMat] = 0 # \u8ba1\u7b97\u9519\u8bef\u5217\u8868\n",
      "                weightedError = D.T * errArr   # \u8ba1\u7b97\u52a0\u6743\u9519\u8bef\u7387\n",
      "                if weightedError < minError:\n",
      "                    minError = weightedError\n",
      "                    bestClasEst = predictVals.copy() # \u6df1\u5ea6\u590d\u5236\n",
      "                    bestStump['dim'] = i\n",
      "                    bestStump['thresh'] = threshVal\n",
      "                    bestStump['ineq'] = inequal\n",
      "    return bestStump, minError, bestClasEst\n",
      "    "
     ],
     "language": "python",
     "metadata": {},
     "outputs": [],
     "prompt_number": 28
    },
    {
     "cell_type": "markdown",
     "metadata": {},
     "source": [
      "\u4e0b\u9762\u6d4b\u8bd5\u8fd9\u4e2a\u51b3\u7b56\u6811"
     ]
    },
    {
     "cell_type": "code",
     "collapsed": false,
     "input": [
      "D = mat(ones((5,1))/5)\n",
      "buildStump(myDat, classLabels, D)"
     ],
     "language": "python",
     "metadata": {},
     "outputs": [
      {
       "metadata": {},
       "output_type": "pyout",
       "prompt_number": 29,
       "text": [
        "({'dim': 0, 'ineq': 'lt', 'thresh': 1.3}, matrix([[ 0.2]]), array([[-1.],\n",
        "        [ 1.],\n",
        "        [-1.],\n",
        "        [-1.],\n",
        "        [ 1.]]))"
       ]
      }
     ],
     "prompt_number": 29
    },
    {
     "cell_type": "markdown",
     "metadata": {},
     "source": [
      "# adaboost\u7b97\u6cd5\u5b8c\u6574\u7248\n",
      "\n",
      "\u5bf9\u6bcf\u6b21\u8fed\u4ee3\uff1a\n",
      "\n",
      "1. \u5229\u7528buildStump\u627e\u5230\u6700\u4f73\u7684\u5355\u5c42\u51b3\u7b56\u6811\n",
      "2. \u5c06\u6700\u4f73\u5355\u5c42\u51b3\u7b56\u6811\u52a0\u5165\u5355\u5c42\u51b3\u7b56\u6811\u6570\u7ec4\n",
      "3. \u8ba1\u7b97\u5f53\u524d\u51b3\u7b56\u6811\u7684\u6743\u91cd\n",
      "4. \u8ba1\u7b97\u65b0\u7684\u6743\u91cd\u5411\u91cfD\n",
      "5. \u66f4\u65b0\u7d2f\u8ba1\u7c7b\u522b\u4f30\u8ba1\u503c\n",
      "6. \u5982\u679c\u9519\u8bef\u7387\u7b49\u4e8e0.0,\u5219\u9000\u51fa\u5faa\u73af\n",
      "\n",
      "\u4e0b\u9762\u7684\u7a0b\u5e8f\u5b9e\u73b0adaboost\u7b97\u6cd5\uff0c\u8f93\u5165\u53c2\u6570\u5305\u62ec\u6570\u636e\u96c6\u3001\u7c7b\u522b\u6807\u7b7e\u4ee5\u53ca\u8fed\u4ee3\u6b21\u6570\uff0c\u5176\u4e2d\u8fed\u4ee3\u6b21\u6570\u662f\u8d85\u53c2\u6570\uff0c\u9700\u8981\u4eba\u5de5\u8bbe\u7f6e\u3002"
     ]
    },
    {
     "cell_type": "code",
     "collapsed": false,
     "input": [
      "def adaBoosdtTrainDS(dataArr, classLabels, numIt = 40):\n",
      "    weakClassArr = []\n",
      "    m = shape(dataArr)[0]\n",
      "    D = mat(ones((m, 1))/m)  # \u521d\u59cb\u5316\u6743\u91cd\u5411\u91cf\n",
      "    aggClassEst = mat(zeros((m,1)))\n",
      "    for i in range(numIt):\n",
      "        bestStump,error,classEst = buildStump(dataArr, classLabels, D)\n",
      "        # print \"D:\",D.T\n",
      "        alpha = float(0.5*log((1.0 - error)/max(error,1e-16))) # \u786e\u4fdd\u518d\u9519\u8bef\u4e3a0\u65f6\u4e0d\u4f1a\u9664\u96f6\u6ea2\u51fa\n",
      "        bestStump['alpha'] = alpha\n",
      "        weakClassArr.append(bestStump) # \u628a\u5f31\u5206\u7c7b\u5668\u52a0\u5165\u6570\u7ec4\n",
      "        # print 'classEst:',classEst.T\n",
      "        # \u4e0b\u9762\u5f00\u59cb\u8ba1\u7b97\u5206\u7c7b\u5668\u7684\u6743\u91cd\n",
      "        expon = multiply(-1 * alpha * mat(classLabels).T, classEst)\n",
      "        D = multiply(D,exp(expon))\n",
      "        D = D/D.sum()        # \u89c4\u8303\u5316\n",
      "        # \u4e0b\u9762\u5408\u5e76\u6240\u6709\u5206\u7c7b\u5668\u7684\u9519\u8bef\u7387\n",
      "        aggClassEst += alpha * classEst  # \u5408\u5e76\u4f30\u8ba1\n",
      "        # print \"aggClassEst: \",aggClassEst.T\n",
      "        aggErrors = multiply(sign(aggClassEst) != mat(classLabels).T,ones((m,1))) # \u8ba1\u7b97\u9519\u8bef\u7387 ?\n",
      "        # print \"aggErrors:\",aggErrors.T\n",
      "        errorRate = aggErrors.sum() / m\n",
      "        # print \"total error:\",errorRate,\"\\n\"\n",
      "        if errorRate == 0:break\n",
      "    return weakClassArr"
     ],
     "language": "python",
     "metadata": {},
     "outputs": [],
     "prompt_number": 63
    },
    {
     "cell_type": "markdown",
     "metadata": {},
     "source": [
      "\u4e0b\u9762\u6d4b\u8bd5\u8fd9\u6bb5\u4ee3\u7801\n"
     ]
    },
    {
     "cell_type": "code",
     "collapsed": false,
     "input": [
      "classfierArr1 = adaBoosdtTrainDS(myDat,classLabels,9)"
     ],
     "language": "python",
     "metadata": {},
     "outputs": [
      {
       "output_type": "stream",
       "stream": "stdout",
       "text": [
        "D: [[ 0.2  0.2  0.2  0.2  0.2]]\n",
        "classEst: [[-1.  1. -1. -1.  1.]]\n",
        "aggClassEst:  [[-0.69314718  0.69314718 -0.69314718 -0.69314718  0.69314718]]\n",
        "aggErrors: [[ 1.  0.  0.  0.  0.]]\n",
        "total error: 0.2 \n",
        "\n",
        "D: [[ 0.5    0.125  0.125  0.125  0.125]]\n",
        "classEst: [[ 1.  1. -1. -1. -1.]]\n",
        "aggClassEst:  [[ 0.27980789  1.66610226 -1.66610226 -1.66610226 -0.27980789]]\n",
        "aggErrors: [[ 0.  0.  0.  0.  1.]]\n",
        "total error: 0.2 \n",
        "\n",
        "D: [[ 0.28571429  0.07142857  0.07142857  0.07142857  0.5       ]]\n",
        "classEst: [[ 1.  1.  1.  1.  1.]]\n",
        "aggClassEst:  [[ 1.17568763  2.56198199 -0.77022252 -0.77022252  0.61607184]]\n",
        "aggErrors: [[ 0.  0.  0.  0.  0.]]\n",
        "total error: 0.0 \n",
        "\n"
       ]
      }
     ],
     "prompt_number": 59
    },
    {
     "cell_type": "markdown",
     "metadata": {},
     "source": [
      "\u4e0b\u9762\u7684\u7a0b\u5e8f\u628a\u8bad\u7ec3\u597d\u7684adaboost\u7684\u5206\u7c7b\u5668\u548c\u6bcf\u4e2a\u5206\u7c7b\u5668\u5bf9\u5e94\u7684\u6743\u91cd\u5e94\u7528\u5230\u65b0\u7684\u6d4b\u8bd5\u96c6\u4e0a"
     ]
    },
    {
     "cell_type": "code",
     "collapsed": false,
     "input": [
      "def adaClassify(dataToClass, classfierArr):\n",
      "    dataMatrix = mat(dataToClass)\n",
      "    m = shape(dataMatrix)[0]\n",
      "    aggClassEst = mat(zeros((m,1)))\n",
      "    for classfier in classfierArr:   \n",
      "        classEst = stumpClassify(dataMatrix,classfier['dim'],classfier['thresh'],classfier['ineq'])\n",
      "        aggClassEst += classfier['alpha'] * classEst   # \u8fd9\u662f\u6570\u4e58\u8fd0\u7b97\n",
      "        # print aggClassEst\n",
      "    return sign(aggClassEst)"
     ],
     "language": "python",
     "metadata": {},
     "outputs": [],
     "prompt_number": 57
    },
    {
     "cell_type": "code",
     "collapsed": false,
     "input": [
      "adaClassify([[5,5],[0,0]],classfierArr1)"
     ],
     "language": "python",
     "metadata": {},
     "outputs": [
      {
       "metadata": {},
       "output_type": "pyout",
       "prompt_number": 60,
       "text": [
        "matrix([[ 1.],\n",
        "        [-1.]])"
       ]
      }
     ],
     "prompt_number": 60
    },
    {
     "cell_type": "markdown",
     "metadata": {},
     "source": [
      "## \u5e94\u7528adaboost\u7b97\u6cd5\n",
      "\n",
      "\u4e0b\u9762\u662f\u4e00\u4e2a\u81ea\u9002\u5e94\u6570\u636e\u52a0\u8f7d\u51fd\u6570"
     ]
    },
    {
     "cell_type": "code",
     "collapsed": false,
     "input": [
      "def loadDataSet(fileName):\n",
      "    numFeat = len(open(fileName).readline().split('\\t')) # \u8ba1\u7b97\u6570\u636e\u5217\u6570\n",
      "    dataMat = []; labelMat = []\n",
      "    fr = open(fileName)\n",
      "    for line in fr.readlines():\n",
      "        curLine = line.strip().split('\\t')\n",
      "        # \u4e0b\u9762\u628a\u6570\u636e\u548c\u6807\u7b7e\u533a\u5206\u5f00\u6765\n",
      "        lineArr = []\n",
      "        for i in range(numFeat - 1):\n",
      "            lineArr.append(float(curLine[i]))\n",
      "        dataMat.append(lineArr)\n",
      "        labelMat.append(float(curLine[-1]))\n",
      "    return dataMat,labelMat"
     ],
     "language": "python",
     "metadata": {},
     "outputs": [],
     "prompt_number": 55
    },
    {
     "cell_type": "code",
     "collapsed": false,
     "input": [
      "dataArr, labelArr = loadDataSet('horseColicTraining2.txt')\n",
      "classfierArr = adaBoosdtTrainDS(dataArr, labelArr, 10)\n",
      "\n",
      "testArr, testLabelArr = loadDataSet('horseColicTest2.txt')\n",
      "predictLabel = adaClassify(testArr,classfierArr)\n",
      "\n",
      "# \u4e0b\u9762\u4e24\u79cd\u65b9\u6cd5\u8ba1\u7b97\u9519\u8bef\u7387\n",
      "numDataHorse = len(predictLabel)\n",
      "baseMat = mat(ones((numDataHorse, 1)))\n",
      "# retArr = multiply(predictLabel != mat(testLabelArr), baseMat )\n",
      "# retArr.sum(),numDataHorse\n",
      "baseMat[predictLabel!=mat(testLabelArr).T].sum()"
     ],
     "language": "python",
     "metadata": {},
     "outputs": [
      {
       "metadata": {},
       "output_type": "pyout",
       "prompt_number": 71,
       "text": [
        "16.0"
       ]
      }
     ],
     "prompt_number": 71
    },
    {
     "cell_type": "markdown",
     "metadata": {},
     "source": [
      "\u56e0\u4e3a\u6570\u636e\u4e2d\u5927\u90e8\u5206\u90fd\u6709\u7f3a\u5931\u503c\u6240\u4ee5\u51c6\u786e\u5ea6\u4e0d\u9ad8"
     ]
    },
    {
     "cell_type": "code",
     "collapsed": false,
     "input": [],
     "language": "python",
     "metadata": {},
     "outputs": []
    }
   ],
   "metadata": {}
  }
 ]
}