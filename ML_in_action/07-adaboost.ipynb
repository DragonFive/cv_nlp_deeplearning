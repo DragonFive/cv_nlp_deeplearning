{
 "metadata": {
  "name": "",
  "signature": "sha256:e65b6b6859ad16a011ef9ff33ff064d8ce0bb8197ba639418da00529cfc8b069"
 },
 "nbformat": 3,
 "nbformat_minor": 0,
 "worksheets": [
  {
   "cells": [
    {
     "cell_type": "markdown",
     "metadata": {},
     "source": [
      "# adaboost\u7b97\u6cd5 \n",
      "\n",
      "adaboost\u662f\u4e00\u79cd\u6700\u6d41\u884c\u7684\u96c6\u6210\u7b97\u6cd5(ensemble method)\u6216\u5143\u65b9\u6cd5(meta algorithm)\uff0c\u53ef\u4ee5\u5bf9\u5176\u4ed6\u7b97\u6cd5\u8fdb\u884c\u7ec4\u5408,\u7b97\u6cd5\u7684\u9519\u8bef\u7387\u662f\u5448\u6307\u6570\u7ea7\u4e0b\u964d\u7684\n",
      "\n",
      "**\u4f18\u70b9:** \u6cdb\u5316\u9519\u8bef\u7387\u4f4e\uff0c\u6613\u7f16\u7801\uff0c\u53ef\u4ee5\u5e94\u7528\u518d\u5927\u90e8\u5206\u5206\u7c7b\u5668\u4e0a\uff0c\u65e0\u53c2\u6570\u8c03\u6574 \n",
      "\n",
      "**\u7f3a\u70b9:** \u5bf9\u79bb\u7fa4\u70b9\u654f\u611f\n",
      "\n",
      "**\u4f7f\u7528\u6570\u636e\u7c7b\u578b:** \u6570\u503c\u578b\u548c\u6807\u79f0\u578b\u6570\u636e\n",
      "\n",
      "\n",
      "adaboost\u7b97\u6cd5\u662f\u7528\u6765\u63d0\u5347**\u5206\u7c7b**\u6027\u80fd\u7684\uff0c\u5b83\u4f7f\u7528\u7684\u5f31\u5206\u7c7b\u5668\u5c31\u53ef\u4ee5\u4f7f\u7528\u5404\u79cd\u5404\u6837\u7684\u5206\u7c7b\u5668,\u6bd4\u5982k\u8fd1\u90bb\u3001\u51b3\u7b56\u6811\u3001\u8d1d\u53f6\u65af\u3001SVM\u7b49\n",
      "\n",
      "## \u5355\u5c42\u51b3\u7b56\u6811\u6784\u5efa\u5f31\u5206\u7c7b\u5668\n",
      "\n",
      "\u4ec5\u57fa\u4e8e\u5355\u4e2a\u7279\u5f81\u505a\u51b3\u7b56"
     ]
    },
    {
     "cell_type": "code",
     "collapsed": false,
     "input": [
      "from numpy import *\n",
      "def loadDataSet():\n",
      "    myDat = matrix([[1.,2.1],\n",
      "                 [2.,1.1],\n",
      "                 [1.3,1.],\n",
      "                 [1.,1.],\n",
      "                 [2.,1.]])\n",
      "    classLabels = [1.0,1.0,-1.0,-1.0,1.0]\n",
      "    return myDat,classLabels\n"
     ],
     "language": "python",
     "metadata": {},
     "outputs": [],
     "prompt_number": 6
    },
    {
     "cell_type": "markdown",
     "metadata": {},
     "source": [
      "\u4e0b\u9762\u6d4b\u8bd5\u8fd9\u4e2a\u52a0\u8f7d\u6570\u636e\u4ee3\u7801"
     ]
    },
    {
     "cell_type": "code",
     "collapsed": false,
     "input": [
      "myDat,classLabels = loadDataSet()"
     ],
     "language": "python",
     "metadata": {},
     "outputs": [],
     "prompt_number": 7
    },
    {
     "cell_type": "markdown",
     "metadata": {},
     "source": [
      "\u4e0b\u9762\u7684\u7a0b\u5e8f\u901a\u8fc7\u9608\u503c\u5224\u65ad\u5bf9\u6570\u636e\u8fdb\u884c\u5206\u7c7b\uff0c\u76f8\u5f53\u4e8e\u7528\u5f53\u524d\u7684\u51b3\u7b56\u9762\u6765\u4f30\u8ba1\u8f93\u5165\u503c\u7684\u6807\u7b7e\n",
      "\n",
      "\u5176\u4e2d\u53c2\u6570threshIneq\u8868\u793a\u7684\u662f\u4e0d\u7b49\u5f0f\u5224\u65ad\u7684\u7c7b\u578b\uff0cthreshVal\u662f\u4e0d\u7b49\u5f0f\u5224\u65ad\u7684\u503c"
     ]
    },
    {
     "cell_type": "code",
     "collapsed": false,
     "input": [
      "def stumpClassify(dataMatrix,dimen,threshVal,threshIneq):\n",
      "    retArray = ones((shape(dataMatrix)[0],1))\n",
      "    if threshIneq == 'lt':\n",
      "        retArray[dataMatrix[:, dimen] <= threshVal] = -1.0\n",
      "    else:\n",
      "        retArray[dataMatrix[:, dimen] >  threshVal] = -1.0\n",
      "    return retArray"
     ],
     "language": "python",
     "metadata": {},
     "outputs": [],
     "prompt_number": 8
    },
    {
     "cell_type": "markdown",
     "metadata": {},
     "source": [
      "\u4e0b\u9762\u7684\u7a0b\u5e8f\u5728\u5f53\u524d\u7684\u6570\u636e\u96c6\u4e0a\u904d\u5386\u6240\u6709\u7684\u7279\u5f81\u7684\u6240\u6709\u503c\uff0c\u6765\u627e\u5230\u6700\u4f18\u7684\u7279\u5f81\u548c\u5b83\u7684\u6700\u4f18\u5207\u5206\u70b9\n",
      "\n",
      "\u5b83\u7684\u8f93\u5165 dataArr,\u8868\u793a\u7684\u662f\u6570\u636e\u96c6\u3002 classLabels\u662f\u6570\u636e\u5bf9\u5e94\u7684\u771f\u503c\uff0c\u7528\u4e8e\u4e0e\u5207\u5206\u70b9\u6784\u6210\u7684\u51b3\u7b56\u6811\u4f30\u8ba1\u7684\u503c\u8fdb\u884c\u6bd4\u8f83\u6765\u8ba1\u7b97\u8bef\u5dee\u7387\uff0cD\u662f\u6570\u636e\u96c6\u4e0a\u6bcf\u4e2a\u6570\u636e\u7684\u6743\u91cd\u5411\u91cf"
     ]
    },
    {
     "cell_type": "code",
     "collapsed": false,
     "input": [
      "def buildStump(dataArr, classLabels, D):\n",
      "    dataMatrix = mat(dataArr)        # \u539f\u59cb\u6570\u636e\u90fd\u8f6c\u5316\u6210mat\u65b9\u4fbf\u8ba1\u7b97\n",
      "    lableMat   = mat(classLabels).T  # \n",
      "    m,n = shape(dataMatrix)\n",
      "    numSteps = 10.0 # \u8868\u793a\u7684\u662f\u6bcf\u4e2a\u7279\u5f81\u53d6\u51e0\u4e2a\u503c\u6765\u904d\u5386\n",
      "    bestStump = {}  # \u5b58\u50a8\u7684\u662f\u5f53\u524d\u7684\u6700\u4f18\u5f31\u5206\u7c7b\u5668\n",
      "    bestClasEst = mat(zeros((m,1))) # \u4f9d\u636e\u5f53\u524d\u7684\u51b3\u7b56\u6811\u5f97\u5230\u7684\u4f30\u8ba1\u503c\n",
      "    minError = inf  # \u8bb0\u5f55\u8fc7\u7a0b\u4e2d\u5f97\u5230\u7684\u6700\u5c0f\u7684\u9519\u8bef\u7387\n",
      "    for i in range(n):\n",
      "        rangeMin = dataMatrix[:,i].min()\n",
      "        rangeMax = dataMatrix[:,i].max()\n",
      "        stepSize = (rangeMax - rangeMin) / numSteps\n",
      "        for j in range(-1, int(numSteps)+1):\n",
      "            for inequal in ['lt','gt']:\n",
      "                threshVal = rangeMin + float(j) * stepSize;\n",
      "                predictVals = stumpClassify(dataMatrix, i, threshVal, inequal)\n",
      "                errArr = mat(ones((m, 1)))\n",
      "                errArr[predictVals == lableMat] = 0 # \u8ba1\u7b97\u9519\u8bef\u5217\u8868\n",
      "                weightedError = D.T * errArr   # \u8ba1\u7b97\u52a0\u6743\u9519\u8bef\u7387\n",
      "                if weightedError < minError:\n",
      "                    minError = weightedError\n",
      "                    bestClasEst = predictVals.copy() # \u6df1\u5ea6\u590d\u5236\n",
      "                    bestStump['dim'] = i\n",
      "                    bestStump['thresh'] = threshVal\n",
      "                    bestStump['ineq'] = inequal\n",
      "    return bestStump, minError, bestClasEst\n",
      "    "
     ],
     "language": "python",
     "metadata": {},
     "outputs": [],
     "prompt_number": 28
    },
    {
     "cell_type": "markdown",
     "metadata": {},
     "source": [
      "\u4e0b\u9762\u6d4b\u8bd5\u8fd9\u4e2a\u51b3\u7b56\u6811"
     ]
    },
    {
     "cell_type": "code",
     "collapsed": false,
     "input": [
      "D = mat(ones((5,1))/5)\n",
      "buildStump(myDat, classLabels, D)"
     ],
     "language": "python",
     "metadata": {},
     "outputs": [
      {
       "metadata": {},
       "output_type": "pyout",
       "prompt_number": 29,
       "text": [
        "({'dim': 0, 'ineq': 'lt', 'thresh': 1.3}, matrix([[ 0.2]]), array([[-1.],\n",
        "        [ 1.],\n",
        "        [-1.],\n",
        "        [-1.],\n",
        "        [ 1.]]))"
       ]
      }
     ],
     "prompt_number": 29
    },
    {
     "cell_type": "code",
     "collapsed": false,
     "input": [],
     "language": "python",
     "metadata": {},
     "outputs": []
    }
   ],
   "metadata": {}
  }
 ]
}