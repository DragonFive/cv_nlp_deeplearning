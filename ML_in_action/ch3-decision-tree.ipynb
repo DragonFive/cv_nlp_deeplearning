{
 "metadata": {
  "name": "",
  "signature": "sha256:486b56d7c529457afcecabbd1ec6c7dc29b57eb630b2d4238a13bd587157e89d"
 },
 "nbformat": 3,
 "nbformat_minor": 0,
 "worksheets": [
  {
   "cells": [
    {
     "cell_type": "markdown",
     "metadata": {},
     "source": [
      "# \u51b3\u7b56\u6811\n",
      "\n",
      "**\u4f18\u70b9\uff1a** \u8f93\u51fa\u7ed3\u679c\u6613\u4e8e\u7406\u89e3\uff0c\u5bf9\u4e2d\u95f4\u503c\u7f3a\u5931\u4e0d\u654f\u611f\uff0c\u53ef\u4ee5\u5904\u7406\u4e0d\u76f8\u5173\u7279\u5f81\u6570\u636e \n",
      "**\u7f3a\u70b9\uff1a** \u53ef\u80fd\u4f1a\u4ea7\u751f\u8fc7\u62df\u5408\u7684\u95ee\u9898 \n",
      "\n",
      "\u9999\u519c\u71b5\u7684\u8ba1\u7b97\u516c\u5f0f\uff1a$ H = -\\sum^{K}_{k=1}p_ilog_2p_i $\n",
      "\n",
      "## \u8ba1\u7b97\u9999\u519c\u71b5 \n",
      "\u4e0b\u9762\u662f\u8ba1\u7b97\u9999\u519c\u71b5\u7684\u7a0b\u5e8f,\u5148\u7edf\u8ba1\u6709\u591a\u5c11\u7c7b,\u7136\u540e\u7edf\u8ba1\u6bd4\u4f8b"
     ]
    },
    {
     "cell_type": "code",
     "collapsed": false,
     "input": [
      "\n",
      "from math import log\n",
      "\n",
      "def calcShannonEnt (dataset):\n",
      "    numEntries = len(dataset)\n",
      "    labelCounts = {}\n",
      "    for featVec in dataset:\n",
      "        curLab = featVec[-1]\n",
      "        if curLab not in labelCounts.keys():\n",
      "            labelCounts[curLab] = 0;\n",
      "        labelCounts[curLab] += 1\n",
      "    shannonEnt = 0.0\n",
      "    for key in labelCounts:\n",
      "        prob = float(labelCounts[key]) / numEntries\n",
      "        shannonEnt -= prob*log(prob,2) # \u8ba1\u7b97\u4ee52\u4e3a\u5e95\u7684\u71b5\u7684\u65b9\u6cd5\n",
      "    return shannonEnt\n"
     ],
     "language": "python",
     "metadata": {},
     "outputs": [],
     "prompt_number": 2
    },
    {
     "cell_type": "markdown",
     "metadata": {},
     "source": [
      "\u4e0b\u9762\u521b\u5efa\u4e00\u4e9b\u6570\u636e\u96c6\u8fdb\u884c\u6d4b\u8bd5"
     ]
    },
    {
     "cell_type": "code",
     "collapsed": false,
     "input": [
      "def createDataset():\n",
      "    dataset = [[1, 1, 'yes'],\n",
      "               [1, 1, 'yes'],\n",
      "               [1, 0, 'no'],\n",
      "               [0, 1, 'no'],\n",
      "               [0, 1, 'no']\n",
      "               ]\n",
      "    labels = ['no surfacing', 'flippers']\n",
      "    return dataset,labels\n",
      "\n",
      "myDat, labels = createDataset()\n",
      "shannonEnt = calcShannonEnt(myDat)\n",
      "shannonEnt"
     ],
     "language": "python",
     "metadata": {},
     "outputs": [
      {
       "metadata": {},
       "output_type": "pyout",
       "prompt_number": 6,
       "text": [
        "0.9709505944546686"
       ]
      }
     ],
     "prompt_number": 6
    },
    {
     "cell_type": "markdown",
     "metadata": {},
     "source": [
      "## \u5212\u5206\u6570\u636e\u96c6\n",
      "\n",
      "\u5176\u5b9e\u5c31\u662f\u6570\u636e\u96c6\u7279\u5f81\u7a7a\u95f4\u7684\u5212\u5206\u3002\u4e0b\u9762\u7684\u4ee3\u7801\u8d1f\u8d23\u628a\u6ee1\u8db3\u67d0\u7279\u5f81\u6761\u4ef6\u7684\u6570\u636e\u62bd\u53d6\u51fa\u6765(\u5220\u9664\u5f53\u524d\u7279\u5f81)\uff0c\u8f93\u51653\u4e2a\u53c2\u6570\u5206\u522b\u662f\u6570\u636e\u96c6\uff0c\u5212\u5206\u7279\u5f81\u7684\u7f16\u53f7\u548c\u5206\u754c\u70b9\uff0c\u8fd9\u91cc\u662f\u628a\u7279\u5f81\u90fd\u4f5c\u4e3a\u79bb\u6563\u7279\u5f81\u6765\u8003\u8651\u7684\u3002"
     ]
    },
    {
     "cell_type": "code",
     "collapsed": false,
     "input": [
      "def splitDataSet(dataset, axis, value):\n",
      "    retDataset = []\n",
      "    for featVec in dataset:\n",
      "        if featVec[axis] == value:\n",
      "            reducedVec = featVec[:axis]\n",
      "            reducedVec.extend(featVec[axis + 1:])\n",
      "            retDataset.append(reducedVec)\n",
      "    return retDataset"
     ],
     "language": "python",
     "metadata": {},
     "outputs": [],
     "prompt_number": 7
    },
    {
     "cell_type": "markdown",
     "metadata": {},
     "source": [
      "\u6ce8\u610f\u4e0a\u9762\u7684 extend\u8868\u793a\u4e24\u4e2a\u5411\u91cf\u7684\u5408\u5e76\uff0c\u800cappend\u5219\u8868\u793a\u628a\u4e00\u4e2a\u54cd\u4eae\u4f5c\u4e3a\u4e00\u4e2a\u5143\u7d20\u653e\u5728\u53e6\u4e00\u4e2a\u5411\u91cf\u540e\u9762 "
     ]
    },
    {
     "cell_type": "code",
     "collapsed": false,
     "input": [
      "myDat, labels = createDataset()\n",
      "retDat = splitDataSet(myDat, 0, 1)\n",
      "retDat"
     ],
     "language": "python",
     "metadata": {},
     "outputs": [
      {
       "metadata": {},
       "output_type": "pyout",
       "prompt_number": 8,
       "text": [
        "[[1, 'yes'], [1, 'yes'], [0, 'no']]"
       ]
      }
     ],
     "prompt_number": 8
    },
    {
     "cell_type": "markdown",
     "metadata": {},
     "source": [
      "\u4e0b\u9762\u7684\u51fd\u6570\u4f7f\u7528\u4fe1\u606f\u589e\u76ca\u6765\u9009\u62e9\u6700\u597d\u7684\u6570\u636e\u96c6\u5212\u5206\u65b9\u5f0f\n",
      "\n",
      "## \u7279\u5f81\u9009\u62e9"
     ]
    },
    {
     "cell_type": "code",
     "collapsed": false,
     "input": [
      "def chooseBestFeatureToSplit(dataSet):\n",
      "    numFeatures  = len(dataSet[0]) - 1 # \u6c42\u6570\u636e\u7684\u5217\u6570\uff0c\u7136\u540e\u51cf\u53bb\u6700\u540e\u7684\u6807\u7b7e\u9879\n",
      "    baseEnropy   = calcShannonEnt(dataSet) # \u8ba1\u7b97\u6570\u636e\u96c6\u7684\u71b5\n",
      "    bestFeature  = -1  # \u9009\u51fa\u7684\u6700\u597d\u7684\u7279\u5f81\n",
      "    mostInfoGain = -1 # \u6700\u5927\u7684\u4fe1\u606f\u589e\u76ca\n",
      "    for i in range(numFeatures):\n",
      "        featList   = [example[i] for example in dataSet]\n",
      "        uniqueFeat = set(featList)  # \u8fd9\u662f\u7b2ci\u4e2a\u7279\u5f81\u6240\u6709\u53d6\u503c\u7684\u96c6\u5408\n",
      "        # \u4e0b\u9762\u8ba1\u7b97\u6240\u6709\u53d6\u503c\u7684\u6570\u636e\u96c6\u7684\u5404\u81ea\u71b5\u4e58\u4ee5\u5404\u81ea\u6743\u91cd\u540e\u7684\u7ed3\u679c\u5c31\u662f\u6240\u8c13\u7684\u6761\u4ef6\u71b5\n",
      "        conditionEntro = 0.0\n",
      "        for value in uniqueFeat:\n",
      "            subData = splitDataSet(dataSet, i, value)\n",
      "            prob = len(subData) / float(len(dataSet))\n",
      "            conditionEntro += prob*calcShannonEnt(subData)\n",
      "        # \u4e0b\u9762\u8ba1\u7b97\u4fe1\u606f\u589e\u76ca\n",
      "        infoGain = baseEnropy - conditionEntro\n",
      "        if infoGain > mostInfoGain:\n",
      "            mostInfoGain = infoGain\n",
      "            bestFeature = i\n",
      "    return bestFeature\n"
     ],
     "language": "python",
     "metadata": {},
     "outputs": [],
     "prompt_number": 17
    },
    {
     "cell_type": "code",
     "collapsed": false,
     "input": [
      "chooseBestFeatureToSplit(myDat)"
     ],
     "language": "python",
     "metadata": {},
     "outputs": [
      {
       "metadata": {},
       "output_type": "pyout",
       "prompt_number": 18,
       "text": [
        "0"
       ]
      }
     ],
     "prompt_number": 18
    },
    {
     "cell_type": "markdown",
     "metadata": {},
     "source": [
      "\u4e0b\u9762\u4f7f\u7528\u591a\u6570\u8868\u51b3\u6cd5\u6765\u51b3\u5b9a\u4e00\u4e2a\u53f6\u5b50\u7ed3\u70b9\u7684\u7c7b\u522b\u5e94\u8be5\u662f\u4ec0\u4e48,\u5728\u4e0b\u9762\u6392\u5e8f\u7684\u65f6\u5019\u9700\u8981\u5148\u5f15\u5165operator\n",
      "\n",
      "items\u4ee5\u5217\u8868\u65b9\u5f0f\u8fd4\u56de\u5b57\u5178\u4e2d\u7684\u952e\u503c\u5bf9\uff0citeritems\u4ee5\u8fed\u4ee3\u5668\u5bf9\u8c61 \u8fd4\u56de\u952e\u503c\u5bf9\u513f\n",
      "\n",
      "[Python\u4e2d\u7684sorted\u51fd\u6570\u4ee5\u53caoperator.itemgetter\u51fd\u6570](http://www.cnblogs.com/100thMountain/p/4719503.html)"
     ]
    },
    {
     "cell_type": "code",
     "collapsed": false,
     "input": [
      "import operator\n",
      "def majorityCnt(classList):\n",
      "    classCount = {}\n",
      "    for vote in classList:\n",
      "        if vote not in classCount.keys():\n",
      "            classCount[vote] = 0\n",
      "        classCount[vote] += 1\n",
      "    sortedClassCount = sorted(classCount, key = operator.itemgetter(1), reverse = True)\n",
      "    return sortedClassCount[0][0]"
     ],
     "language": "python",
     "metadata": {},
     "outputs": [],
     "prompt_number": 27
    },
    {
     "cell_type": "markdown",
     "metadata": {},
     "source": [
      "## \u9012\u5f52\u521b\u5efa\u51b3\u7b56\u6811 \n",
      "\n",
      "\u4e0b\u9762\u7528\u5b57\u5178\u683c\u5f0f\u6765\u5b58\u50a8\u51b3\u7b56\u6811\uff0c\u5e76\u4f7f\u7528\u9012\u5f52\u7684\u65b9\u5f0f\u6309\u4ece\u4e0b\u5230\u4e0a\u7684\u65b9\u5f0f\u521b\u5efa\u51b3\u7b56\u6811\n",
      "\n",
      "\u7a0b\u5e8f\u6b65\u9aa4\u662f\uff1a\n",
      "\n",
      "1. \u521b\u5efa\u7c7b\u522b\u6807\u7b7e\u5217\u8868 \n",
      "2. \u5904\u7406\u5f02\u5e38\u60c5\u51b5\n",
      "3. \u9009\u53d6\u6700\u4f18\u7279\u5f81\u548c\u5b83\u5bf9\u5e94\u7684\u6807\u7b7e\n",
      "4. \u5efa\u7acb\u6700\u4f18\u7279\u5f81\u6811\u5e76\u7edf\u8ba1\u8be5\u7279\u5f81\u5bf9\u5e94\u7684\u6240\u6709\u7684\u503c\n",
      "5. \u9012\u5f52\u5bf9\u8be5\u7279\u5f81\u7684\u6bcf\u4e2a\u503c\u83b7\u5f97\u7684\u90a3\u4e2a\u6570\u636e\u5b50\u96c6\u521b\u5efa\u6811\n"
     ]
    },
    {
     "cell_type": "code",
     "collapsed": false,
     "input": [
      "def createTree(dataset, labels):\n",
      "    classList = [example[-1] for example in dataset]\n",
      "    if classList.count(classList[0]) == 1: # \u8bf4\u660e\u8fd9\u4e2a\u6570\u636e\u96c6\u53ea\u5269\u4e00\u4e2a\u7c7b\u4e86;\n",
      "        return classList[0]\n",
      "    if len(dataset[0]) == 1: # \u8bf4\u660e\u8fd9\u4e2a\u6570\u636e\u96c6\u5df2\u7ecf\u6ca1\u6709\u7279\u5f81\u4e86\n",
      "        return majorityCnt(classList)\n",
      "    bestFeat = chooseBestFeatureToSplit(dataset)\n",
      "    bestFeatLabel = labels[bestFeat]\n",
      "    myTree = {bestFeatLabel:{}}\n",
      "    del(labels[bestFeat])\n",
      "    featValues = [example[bestFeat] for example in dataset]\n",
      "    for value in featValues:\n",
      "        subLabels = labels[:]\n",
      "        myTree[bestFeatLabel][value] = createTree(splitDataSet(dataset, bestFeat, value), subLabels)\n",
      "    return myTree   "
     ],
     "language": "python",
     "metadata": {},
     "outputs": [],
     "prompt_number": 28
    },
    {
     "cell_type": "markdown",
     "metadata": {},
     "source": [
      "\u4e0b\u9762\u6d4b\u8bd5\u4ee3\u7801"
     ]
    },
    {
     "cell_type": "code",
     "collapsed": false,
     "input": [
      "dataset, labels = createDataset()\n",
      "mytree = createTree(dataset, labels)\n",
      "mytree"
     ],
     "language": "python",
     "metadata": {},
     "outputs": [
      {
       "metadata": {},
       "output_type": "pyout",
       "prompt_number": 29,
       "text": [
        "{'no surfacing': {0: {'flippers': {1: 'n'}},\n",
        "  1: {'flippers': {0: 'no', 1: 'y'}}}}"
       ]
      }
     ],
     "prompt_number": 29
    },
    {
     "cell_type": "markdown",
     "metadata": {},
     "source": [
      "## \u4e0b\u9762\u4f7f\u7528matplotlib\u6ce8\u89e3\u6765\u7ed8\u5236\u6811\u5f62\u56fe\n",
      "\n",
      "\u4e0b\u9762\u5b9a\u4e49\u6587\u672c\u6846\u548c\u7bad\u5934\u683c\u5f0f"
     ]
    },
    {
     "cell_type": "code",
     "collapsed": false,
     "input": [
      "%matplotlib inline\n",
      "import matplotlib.pyplot as plt\n",
      "\n",
      "decisionNode = dict(boxstyle = \"sawtooth\", fc = \"0.8\")\n",
      "leafNode = dict(boxstyle = \"round4\", fc = \"0.8\")\n",
      "arrow_args = dict(arrowstyle = \"<-\")\n",
      "\n"
     ],
     "language": "python",
     "metadata": {},
     "outputs": [],
     "prompt_number": 12
    },
    {
     "cell_type": "markdown",
     "metadata": {},
     "source": [
      "\u7ed8\u5236\u5e26\u7bad\u5934\u7684\u6ce8\u89e3"
     ]
    },
    {
     "cell_type": "code",
     "collapsed": false,
     "input": [
      "\n",
      "def plotNode(nodeTxt, centerPt, parentPt, nodeType):\n",
      "    createPlot.axl.annotate(nodeTxt, xy = parentPt, xycoords = 'axes fraction', xytext = centerPt, \\\n",
      "        textcoords = 'axes fraction', va = \"center\", ha = \"center\", bbox = nodeType, arrowprops = arrow_args)\n",
      "def createPlot():\n",
      "    fig = plt.figure(1, facecolor = 'white')\n",
      "    fig.clf()\n",
      "    createPlot.axl = plt.subplot(111, frameon = False)\n",
      "    plotNode(U'decision Node', (0.5, 0.1), (0.1, 0.5), decisionNode)\n",
      "    plotNode(U'leaf Node'  , (0.8, 0.1), (0.3, 0.8), leafNode)\n",
      "    plt.show()\n"
     ],
     "language": "python",
     "metadata": {},
     "outputs": [],
     "prompt_number": 13
    },
    {
     "cell_type": "markdown",
     "metadata": {},
     "source": [
      "\u4e0b\u9762\u6d4b\u8bd5\u7ed8\u5236\u5355\u4e2a\u8282\u70b9\u7684\u529f\u80fd"
     ]
    },
    {
     "cell_type": "code",
     "collapsed": false,
     "input": [
      "createPlot()"
     ],
     "language": "python",
     "metadata": {},
     "outputs": [
      {
       "metadata": {},
       "output_type": "display_data",
       "png": "[encoded data removed]",
       "text": [
        "<matplotlib.figure.Figure at 0x7f571c75ba10>"
       ]
      }
     ],
     "prompt_number": 14
    },
    {
     "cell_type": "markdown",
     "metadata": {},
     "source": [
      "\u5982\u4f55\u653e\u7f6e\u6240\u6709\u7684\u6811\u8282\u70b9\u5374\u662f\u4e2a\u95ee\u9898\u3002\u6211\u4eec\u5fc5\u987b\u77e5\u9053\u6709\u591a\u5c11\u4e2a\u53f6\u8282\u70b9\uff0c\u4ee5\u4fbf\u53ef\u4ee5\u6b63\u786e\u786e\u5b9ax\u8f74\u7684\u957f\u5ea6\uff1b\u6211\u4eec\u8fd8\u9700\u8981\u77e5\u9053\u6811\u6709\u591a\u5c11\u5c42\uff0c\u4ee5\u4fbf\u53ef\u4ee5\u6b63\u786e\u786e\u5b9ay\u8f74\u7684\u9ad8\u5ea6\u3002"
     ]
    },
    {
     "cell_type": "code",
     "collapsed": false,
     "input": [
      "def getNumLeafs(myTree):\n",
      "    numLeafs = 0\n",
      "    firstStr = myTree.keys()[0]\n",
      "    secondDict = myTree[firstStr]\n",
      "    for key in secondDict.keys():\n",
      "        if type(secondDict[key]).__name__ == 'dict':\n",
      "            numLeafs += getNumLeafs(secondDict[key])\n",
      "        else:\n",
      "            numLeafs += 1\n",
      "    return numLeafs\n",
      "def getTreeDepth(myTree):\n",
      "    maxDepth = 0\n",
      "    firstStr = myTree.keys()[0]\n",
      "    secondDict = myTree[firstStr]\n",
      "    for key in secondDict.keys():\n",
      "        if type(secondDict[key]).__name__ == 'dict':\n",
      "            thisDepth = getTreeDepth(secondDict[key])\n",
      "        else: \n",
      "            thisDepth = 0\n",
      "        if thisDepth > maxDepth:\n",
      "            maxDepth = thisDepth\n",
      "    return maxDepth + 1"
     ],
     "language": "python",
     "metadata": {},
     "outputs": [],
     "prompt_number": 9
    },
    {
     "cell_type": "markdown",
     "metadata": {},
     "source": [
      "\u4e3a\u4e86\u8282\u7701\u65f6\u95f4\uff0c\u4e0b\u9762\u7684\u51fd\u6570\u8f93\u51fa\u9884\u5148\u5b58\u50a8\u7684\u6811\u4fe1\u606f\uff0c\u907f\u514d\u6bcf\u6b21\u6d4b\u8bd5\u4ee3\u7801\u65f6\u90fd\u8981\u4ece\u6570\u636e\u4e2d\u521b\u5efa\u6811\u7684\u9ebb\u70e6"
     ]
    },
    {
     "cell_type": "code",
     "collapsed": false,
     "input": [
      "def retrieveTree(i):\n",
      "    listOfTrees = [{'no surfacing':{0:'no',1:{'flippers':{0:'no',1:'yes'}}}},\n",
      "                   {'no surfacing':{0:'no',1:{'flippers':{0:{'head':{0:'no',1:'yes'}},1:'no'}}}}\n",
      "                   ]\n",
      "    return listOfTrees[i]"
     ],
     "language": "python",
     "metadata": {},
     "outputs": [],
     "prompt_number": 7
    },
    {
     "cell_type": "code",
     "collapsed": false,
     "input": [
      "myTree = retrieveTree(0)\n",
      "numLeafs = getNumLeafs(myTree)\n",
      "depth    = getTreeDepth(myTree)\n",
      "numLeafs, depth"
     ],
     "language": "python",
     "metadata": {},
     "outputs": [
      {
       "metadata": {},
       "output_type": "pyout",
       "prompt_number": 11,
       "text": [
        "(3, 2)"
       ]
      }
     ],
     "prompt_number": 11
    },
    {
     "cell_type": "markdown",
     "metadata": {},
     "source": [
      "\u5728\u7236\u5b50\u8282\u70b9\u95f4\u586b\u5145\u6587\u672c\u4fe1\u606f"
     ]
    },
    {
     "cell_type": "code",
     "collapsed": false,
     "input": [
      "def plotMidText(cntrPt, parentPt, txtString):\n",
      "    xMid = (parentPt[0] - cntrPt[0]) / 2.0 + cntrPt[0]\n",
      "    yMid = (parentPt[1] - cntrPt[1]) / 2.0 + cntrPt[1]\n",
      "    createPlot.axl.text(xMid, yMid, txtString)"
     ],
     "language": "python",
     "metadata": {},
     "outputs": [],
     "prompt_number": 15
    },
    {
     "cell_type": "markdown",
     "metadata": {},
     "source": [
      "\u4e0b\u9762\u662f\u7ed8\u5236\u7a0b\u5e8f\u7684\u4e3b\u8981\u51fd\u6570"
     ]
    },
    {
     "cell_type": "code",
     "collapsed": false,
     "input": [
      "def plotTree(myTree, parentPt, nodeTxt):\n",
      "    numLeafs = getNumLeafs(myTree)\n",
      "    depth = getTreeDepth(myTree)\n",
      "    firstStr = myTree.keys()[0]\n",
      "    cntrPt = (plotTree.xOff + (1.0 + float(numLeafs)) / 2.0 /plotTree.totalW, plotTree.yOff)\n",
      "    plotMidText(cntrPt, parentPt, nodeTxt)\n",
      "    plotNode(firstStr, cntrPt, parentPt, decisionNode)\n",
      "    secondDict = myTree[firstStr]\n",
      "    plotTree.yOff = plotTree.yOff - 1.0 / plotTree.totalD\n",
      "    for key in secondDict.keys():\n",
      "        if type(secondDict[key]).__name__=='dict':\n",
      "            plotTree(secondDict[key], cntrPt, str(key))\n",
      "        else:\n",
      "            plotTree.xOff = plotTree.xOff + 1.0 / plotTree.totalW\n",
      "            plotNode(secondDict[key], (plotTree.xOff, plotTree.yOff), cntrPt, leafNode)\n",
      "            plotMidText((plotTree.xOff, plotTree.yOff), cntrPt, str(key))\n",
      "    plotTree.yOff = plotTree.yOff + 1.0/plotTree.totalD\n",
      "    "
     ],
     "language": "python",
     "metadata": {},
     "outputs": [],
     "prompt_number": 26
    },
    {
     "cell_type": "markdown",
     "metadata": {},
     "source": [
      "\u4e0b\u9762\u7684\u51fd\u6570\u662f\u63d0\u4f9b\u7ed9\u5916\u754c\u8c03\u7528\u7ed8\u5236\u51b3\u7b56\u6811\u7684\u63a5\u53e3"
     ]
    },
    {
     "cell_type": "code",
     "collapsed": false,
     "input": [
      "def createPlot(inTree):\n",
      "    fig = plt.figure(1, facecolor = 'white')\n",
      "    fig.clf()\n",
      "    axprops = dict(xticks = [], yticks = [])\n",
      "    createPlot.axl = plt.subplot(111, frameon = False, **axprops)\n",
      "    plotTree.totalW = float(getNumLeafs(inTree))\n",
      "    plotTree.totalD = float(getTreeDepth(inTree))\n",
      "    plotTree.xOff = -0.5 / plotTree.totalW\n",
      "    plotTree.yOff = 1.0\n",
      "    plotTree(inTree, (0.5, 1.0), '')\n",
      "    plt.show()"
     ],
     "language": "python",
     "metadata": {},
     "outputs": [],
     "prompt_number": 27
    },
    {
     "cell_type": "markdown",
     "metadata": {},
     "source": [
      "\u4e0b\u9762\u6d4b\u8bd5\u5199\u7684\u7ed8\u5236\u51fd\u6570"
     ]
    },
    {
     "cell_type": "code",
     "collapsed": false,
     "input": [
      "myTree = retrieveTree(0)\n",
      "createPlot(myTree)\n",
      "\n",
      "myTree['no surfacing'][2] = 'maybe'\n",
      "createPlot(myTree)"
     ],
     "language": "python",
     "metadata": {},
     "outputs": [
      {
       "metadata": {},
       "output_type": "display_data",
       "png": "[encoded data removed]",
       "text": [
        "<matplotlib.figure.Figure at 0x7f56f5ab5990>"
       ]
      },
      {
       "metadata": {},
       "output_type": "display_data",
       "png": "[encoded data removed]",
       "text": [
        "<matplotlib.figure.Figure at 0x7f56f5a22bd0>"
       ]
      }
     ],
     "prompt_number": 31
    },
    {
     "cell_type": "code",
     "collapsed": false,
     "input": [],
     "language": "python",
     "metadata": {},
     "outputs": []
    }
   ],
   "metadata": {}
  }
 ]
}