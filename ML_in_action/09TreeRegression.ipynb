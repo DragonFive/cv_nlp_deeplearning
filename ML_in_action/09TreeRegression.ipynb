{
 "metadata": {
  "name": "",
  "signature": "sha256:b16258e6c93d02b287e6cace22aa8d5a1efc02125c36dc5bc97e04ee7c000107"
 },
 "nbformat": 3,
 "nbformat_minor": 0,
 "worksheets": [
  {
   "cells": [
    {
     "cell_type": "markdown",
     "metadata": {},
     "source": [
      "# \u6811\u56de\u5f52\n",
      "---\n",
      "ID3\u7b97\u6cd5\u65e0\u6cd5\u76f4\u63a5\u5904\u7406\u6570\u503c\u578b\u6570\u636e\uff0c\u5c3d\u7ba1\u6211\u4eec\u53ef\u4ee5\u901a\u8fc7\u91cf\u5316\u7684\u65b9\u6cd5\u5c06\u6570\u503c\u578b\u6570\u636e\u8f6c\u5316\u4e3a\u6807\u79f0\u578b\u6570\u503c\uff0c\u4f46\u662f\u5982\u679c\u5b58\u5728\u592a\u591a\u7684\u7279\u5f81\u5212\u5206\uff0cID3\u7b97\u6cd5\u4ecd\u7136\u4f1a\u9762\u4e34\u95ee\u9898\u3002\n",
      "\n",
      "\u51b3\u7b56\u6811\u4e0d\u65ad\u5c06\u6570\u636e\u5207\u5206\u6210\u5c0f\u6570\u636e\u96c6\uff0c\u77e5\u9053\u6240\u6709\u7684\u76ee\u6807\u53d8\u91cf\u5b8c\u5168\u76f8\u540c\uff0c\u6216\u8005\u6570\u636e\u4e0d\u80fd\u518d\u5207\u5206\u4e3a\u6b62\u3002**\u51b3\u7b56\u6811\u662f\u4e00\u79cd\u8d2a\u5fc3\u7b97\u6cd5**\uff0c\u5b83\u8981\u5728\u7ed9\u5b9a\u65f6\u95f4\u5185\u505a\u51fa\u6700\u4f73\u9009\u62e9\uff0c\u4f46\u5e76\u4e0d\u5173\u5fc3\u80fd\u5426\u8fbe\u5230\u5168\u5c40\u6700\u4f18\n",
      "\n",
      "CART\u6811\u7b97\u6cd5\uff08**classification and regression tree**\uff09\u5206\u7c7b\u56de\u5f52\u6811\u65e2\u53ef\u4ee5\u7528\u4e8e\u5206\u7c7b\u4e5f\u53ef\u4ee5\u7528\u4e8e\u56de\u5f52\u3002cart\u7b97\u6cd5\u4f7f\u7528\u4e8c\u5143\u5207\u5206\u6cd5\u6765\u5904\u7406\u8fde\u7eed\u578b\u53d8\u91cf\n",
      "\n",
      "\n"
     ]
    },
    {
     "cell_type": "code",
     "collapsed": false,
     "input": [
      "from numpy import *\n",
      "\n",
      "def loadDataSet(fileName):\n",
      "    dataMat = []\n",
      "    fr = open(fileName)\n",
      "    for line in fr.readlines():\n",
      "        curLine = line.strip().split('\\t')\n",
      "        fltLine = map(float, curLine) # \u5c06\u6bcf\u884c\u6620\u5c04\u6210\u6d6e\u70b9\u6570\n",
      "        dataMat.append(fltLine)\n",
      "    return dataMat\n",
      "# def binSplitDataSet(dataset, feature, value):\n",
      "#     mat0 = dataset[nonzero(dataset[:,feature] >  value)[0], :][0]   # \u7528\u8fc7\u6ee4\u7684\u65b9\u5f0f\u6765\u5207\u5206\u6570\u636e\u96c6\n",
      "#     mat1 = dataset[nonzero(dataset[:,feature] <= value)[0], :][0]\n",
      "#     return mat0, mat1\n",
      "def binSplitDataSet(dataSet, feature, value):\n",
      "    mat0 = dataSet[nonzero(dataSet[:,feature] > value)[0],:]\n",
      "    mat1 = dataSet[nonzero(dataSet[:,feature] <= value)[0],:]\n",
      "    return mat0,mat1"
     ],
     "language": "python",
     "metadata": {},
     "outputs": [],
     "prompt_number": 71
    },
    {
     "cell_type": "markdown",
     "metadata": {},
     "source": [
      "\u4e0b\u9762\u6d4b\u8bd5\u8fd9\u4e2a\u5207\u5206\u6570\u636e\u96c6\u7684\u51fd\u6570 "
     ]
    },
    {
     "cell_type": "code",
     "collapsed": false,
     "input": [
      "testMat = mat(eye(4))\n",
      "mat0, mat1 = binSplitDataSet(testMat, 1, 0.5)\n",
      "mat1, mat0\n",
      "set(testMat[:,1].T.tolist()[0])"
     ],
     "language": "python",
     "metadata": {},
     "outputs": [
      {
       "metadata": {},
       "output_type": "pyout",
       "prompt_number": 67,
       "text": [
        "{0.0, 1.0}"
       ]
      }
     ],
     "prompt_number": 67
    },
    {
     "cell_type": "markdown",
     "metadata": {},
     "source": [
      "# cart\u6811\u751f\u6210\n",
      "\n",
      "\u9012\u5f52\u6784\u5efa**\u4e8c\u53c9**\u6811\uff0c\u56e0\u4e3acart\u65e2\u53ef\u4ee5\u505a\u5206\u7c7b\uff0c\u53c8\u53ef\u4ee5\u505a\u56de\u5f52\uff0c\u800c\u5bf9\u4e8e\u5206\u7c7b\u6811\u4f7f\u7528\u7684\u662f\u57fa\u5c3c\u6307\u6570\u6700\u5c0f\u5316\u51c6\u5219\uff0c\u800c\u5bf9\u4e8e\u56de\u5f52\u6811\u4f7f\u7528\u7684\u662f\u5e73\u65b9\u8bef\u5dee\u6700\u5c0f\u5316\u51c6\u5219\uff0c\u8fdb\u884c\u7279\u5f81\u9009\u62e9\uff0c\u751f\u6210\u4e8c\u53c9\u6811\n",
      "\n",
      "\u4e0b\u9762\u662f\u521b\u5efa\u53f6\u5b50\u8282\u70b9\u7684\u65b9\u5f0f\uff0c\u6c42\u8fd9\u4e2a\u6570\u636e\u5212\u5206\u7684\u5e73\u5747\u503c"
     ]
    },
    {
     "cell_type": "code",
     "collapsed": false,
     "input": [
      "def regLeaf(dataSet):\n",
      "    return mean(dataSet[:,-1])"
     ],
     "language": "python",
     "metadata": {},
     "outputs": [],
     "prompt_number": 36
    },
    {
     "cell_type": "markdown",
     "metadata": {},
     "source": [
      "\u4e0b\u9762\u662f\u56de\u5f52\u6811\u8ba1\u7b97\u8bef\u5dee\u7684\u65b9\u5f0f"
     ]
    },
    {
     "cell_type": "code",
     "collapsed": false,
     "input": [
      "def regErr(dataSet):\n",
      "    return var(dataSet[:,-1])*shape(dataSet)[0]"
     ],
     "language": "python",
     "metadata": {},
     "outputs": [],
     "prompt_number": 37
    },
    {
     "cell_type": "markdown",
     "metadata": {},
     "source": [
      "chooseBestSplit\u51fd\u6570\u662f\u56de\u5f52\u6811\u6784\u5efa\u7684\u6838\u5fc3\u51fd\u6570\u3002\u8be5\u51fd\u6570\u7684\u76ee\u7684\u662f\u627e\u5230\u6570\u636e\u7684\u6700\u4f73\u4e8c\u5143\u5207\u5206\u65b9\u5f0f\u3002\u904d\u5386\u6240\u6709\u7684\u7279\u5f81\u53ca\u5176\u6240\u6709\u53ef\u80fd\u53d6\u7684\u503c\uff0c\u627e\u5230\u4f7f\u5f97\u5e73\u65b9\u8bef\u5dee\u964d\u4f4e\u6700\u5c0f\u7684\u90a3\u4e2a\u7279\u5f81\u503c\u4f5c\u4e3a\u5207\u5206\u70b9\n",
      "\n",
      "\u5224\u65ad\u6570\u636e\u96c6\u4e2d\u662f\u5426\u53ea\u6709\u4e00\u4e2a\u7c7b\u522b\u6709\u4e86\u4e24\u79cd\u65b9\u6cd5\uff1a1.count 2.set"
     ]
    },
    {
     "cell_type": "code",
     "collapsed": false,
     "input": [
      "def chooseBestSplit(dataSet, leafType = regLeaf, errType = regErr, ops = (1,4)):\n",
      "    toLS = ops[0] # \u5e73\u65b9\u8bef\u5dee\u7684\u6700\u5c0f\u4e0b\u964d\u503c\n",
      "    toLN = ops[1] # \u5212\u5206\u51fa\u7684\u6570\u636e\u96c6\u91cc\u7684\u6700\u5c0f\u6768\u672c\u6570\n",
      "    # \u5224\u65ad\u7c7b\u522b\u53ea\u6709\u4e00\u4e2a\u7684\u65b9\u6cd51\n",
      "#     classList = [example[-1] for example in dataSet]\n",
      "#     if (classList.count(classList[0]) == len(classList)):\n",
      "    # \u5224\u65ad\u7c7b\u522b\u53ea\u6709\u4e00\u4e2a\u7684\u65b9\u6cd52\n",
      "    if len(set(dataSet[:, -1].T.tolist()[0])) == 1:\n",
      "        return None, leafType(dataSet)\n",
      "    m, n = shape(dataSet) \n",
      "    S = errType(dataSet) # \u539f\u6570\u636e\u96c6\u7684\u5e73\u65b9\u8bef\u5dee\n",
      "    bestS = inf; bestIndex = 0; bestValue = 0\n",
      "    for featIndex in range(n-1): # \u4ece\u4e0b\u4e3a0\u5230\u4e0b\u6807\u4e3an-2 ,\u4e0b\u6807n-1\u4e3a\u6807\u7b7e\u5217\n",
      "        for featVal in set(dataSet[:, featIndex].T.tolist()[0] ):\n",
      "            mat0, mat1 = binSplitDataSet(dataSet, featIndex, featVal)\n",
      "            # \u4e0b\u9762\u5224\u65ad\u662f\u5426\u6ee1\u8db3\u6837\u672c\u6570\u7684\u8981\u6c42\n",
      "            if (shape(mat0)[0] < toLN) or (shape(mat1)[0] < toLN):\n",
      "                continue;\n",
      "            newS = regErr(mat0) + regErr(mat1)\n",
      "            # \u4e0b\u9762\u8ba1\u7b97\u5e73\u65b9\u8bef\u5dee\u964d\u4f4e\u7684\u503c\n",
      "            if newS < bestS:\n",
      "                bestS = newS\n",
      "                bestIndex = featIndex\n",
      "                bestValue = featVal\n",
      "    # \u4e0b\u9762\u5224\u65ad\u662f\u5426\u627e\u5230\u4e86\u6700\u597d\u7684\u5212\u5206\n",
      "    if S - bestS < toLS :\n",
      "        return None,leafType(dataSet)\n",
      "    mat0, mat1 = binSplitDataSet(dataSet, bestIndex, bestValue)\n",
      "    if shape(mat0)[0] < toLN or shape(mat1)[0] < toLN:\n",
      "        return None,leafType(dataSet)\n",
      "    return bestIndex, bestValue"
     ],
     "language": "python",
     "metadata": {},
     "outputs": [],
     "prompt_number": 74
    },
    {
     "cell_type": "markdown",
     "metadata": {},
     "source": [
      "\u4e0b\u9762\u662f\u9012\u5f52\u521b\u5efa\u56de\u5f52\u6811\u7684\u8fc7\u7a0b"
     ]
    },
    {
     "cell_type": "code",
     "collapsed": false,
     "input": [
      "def createTree(dataset, leafType = regLeaf, errType = regErr, ops = (1, 4)):\n",
      "    feat, val = chooseBestSplit(dataset, leafType, errType, ops)\n",
      "    if feat == None: return val\n",
      "    retTree = {}\n",
      "    retTree['0spInd'] = feat\n",
      "    retTree['1spVal'] = val\n",
      "    lSet, rSet = binSplitDataSet(dataset, feat, val)\n",
      "    retTree['2left']  = createTree(lSet, leafType, errType, ops)\n",
      "    retTree['3right'] = createTree(rSet, leafType, errType, ops)\n",
      "    return retTree\n",
      "\n"
     ],
     "language": "python",
     "metadata": {},
     "outputs": [],
     "prompt_number": 80
    },
    {
     "cell_type": "markdown",
     "metadata": {},
     "source": [
      "## \u5e94\u7528\u56de\u5f52\u6811\n",
      "\n",
      "\u4e0b\u9762\u6d4b\u8bd5\u521b\u5efa\u56de\u5f52\u6811\u7684\u8fc7\u7a0b\n",
      "\n",
      "\u56de\u5f52\u6811\u6709\u56db\u4e2a\u952e\u503c\u5bf9\uff0c\u7279\u5f81\u4e0b\u6807\u3001\u7279\u5f81\u503c\u3001\u5de6\u5b50\u6811\u3001\u53f3\u5b50\u6811\u3002\n",
      "\n",
      "\u7279\u5f81\u503c\u662f\u533a\u5206\u5de6\u53f3\u5b50\u96c6\u7684\u4e2d\u95f4\u503c\uff0c\u53f6\u5b50\u8282\u70b9\u4e0a\u5bf9\u5e94\u7684\u662f\u8be5\u5b50\u96c6\u7684\u5e73\u5747\u503c"
     ]
    },
    {
     "cell_type": "code",
     "collapsed": false,
     "input": [
      "myDat00 = loadDataSet('ex00.txt')\n",
      "myDat00 = mat(myDat00)\n",
      "createTree(myDat00)"
     ],
     "language": "python",
     "metadata": {},
     "outputs": [
      {
       "metadata": {},
       "output_type": "pyout",
       "prompt_number": 81,
       "text": [
        "{'0spInd': 0,\n",
        " '1spVal': 0.48813,\n",
        " '2left': 1.0180967672413792,\n",
        " '3right': -0.044650285714285719}"
       ]
      }
     ],
     "prompt_number": 81
    },
    {
     "cell_type": "markdown",
     "metadata": {},
     "source": [
      "\u4e0a\u8ff0\u7ed3\u679c\u8868\u660e\u53ea\u9700\u8981\u7b2c\u4e00\u4e2a\u53c2\u6570\u5c31\u80fd\u628a\u6570\u636e\u96c6\u5206\u51fa\u6765\u4f7f\u5f97\u5e73\u65b9\u8bef\u5dee\u964d\u4f4e\u5f97\u6ee1\u8db3\u6761\u4ef6\uff0c\u4e0d\u9700\u8981\u518d\u5f80\u4e0b\u5206\u4e86\n",
      "\n",
      "\u4e0b\u9762\u8fdb\u884c\u7b2c\u4e8c\u6b21\u6d4b\u8bd5"
     ]
    },
    {
     "cell_type": "code",
     "collapsed": false,
     "input": [
      "myDat0 = loadDataSet('ex0.txt')\n",
      "myDat0 = mat(myDat0)\n",
      "createTree(myDat0)"
     ],
     "language": "python",
     "metadata": {},
     "outputs": [
      {
       "metadata": {},
       "output_type": "pyout",
       "prompt_number": 82,
       "text": [
        "{'0spInd': 1,\n",
        " '1spVal': 0.39435,\n",
        " '2left': {'0spInd': 1,\n",
        "  '1spVal': 0.582002,\n",
        "  '2left': {'0spInd': 1,\n",
        "   '1spVal': 0.797583,\n",
        "   '2left': 3.9871631999999999,\n",
        "   '3right': 2.9836209534883724},\n",
        "  '3right': 1.980035071428571},\n",
        " '3right': {'0spInd': 1,\n",
        "  '1spVal': 0.197834,\n",
        "  '2left': 1.0289583666666666,\n",
        "  '3right': -0.023838155555555553}}"
       ]
      }
     ],
     "prompt_number": 82
    },
    {
     "cell_type": "code",
     "collapsed": false,
     "input": [],
     "language": "python",
     "metadata": {},
     "outputs": []
    }
   ],
   "metadata": {}
  }
 ]
}